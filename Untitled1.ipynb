{
 "cells": [
  {
   "cell_type": "markdown",
   "metadata": {},
   "source": [
    "# Importing Data"
   ]
  },
  {
   "cell_type": "code",
   "execution_count": 7,
   "metadata": {
    "collapsed": true
   },
   "outputs": [],
   "source": [
    "import pandas as pd\n",
    "%matplotlib inline"
   ]
  },
  {
   "cell_type": "code",
   "execution_count": 3,
   "metadata": {},
   "outputs": [],
   "source": [
    "ep135 = pd.read_csv('./episodic/episodes/item_daily-totals_TheEtherReview67CelebratingErikVoorheesWeekwithErikVoorhees_2017-06-24.csv')\n",
    "ep134 = pd.read_csv('./episodic/episodes/item_daily-totals_TBP134MoreMarketingDiscipline_2017-06-24.csv')\n",
    "ep133 = pd.read_csv('./episodic/episodes/item_daily-totals_TBP133ICOWoeswithMyEtherWallet_2017-06-24.csv')\n",
    "ep132 = pd.read_csv('./episodic/episodes/item_daily-totals_TBP132DarkSideofthePrism_2017-06-24.csv')\n",
    "ep131 = pd.read_csv('./episodic/episodes/item_daily-totals_TBP131EndingCorporateDominance_2017-06-24.csv')\n",
    "ep130 = pd.read_csv('./episodic/episodes/item_daily-totals_TBP130ConsensusRecapandSphre_2017-06-24.csv')\n",
    "ep129 = pd.read_csv('./episodic/episodes/item_daily-totals_TBP129TheInherentRisks_2017-06-24.csv')\n",
    "ep128 = pd.read_csv('./episodic/episodes/item_daily-totals_TBP128Family_2017-06-24.csv')\n",
    "ep127 = pd.read_csv('./episodic/episodes/item_daily-totals_TBP127MarketingDiscipline_2017-06-24.csv')\n",
    "ep126 = pd.read_csv('./episodic/episodes/item_daily-totals_Episode9OnRampingwithDee_2017-06-24.csv')\n",
    "ep125 = pd.read_csv('./episodic/episodes/item_daily-totals_Episode10OnRampingwithDee_2017-06-24.csv')\n",
    "ep124 = pd.read_csv('./episodic/episodes/item_daily-totals_BlockChannelEpisode22TacklingtheRealEstateDinosaurwithREX_2017-06-24.csv')\n",
    "ep123 = pd.read_csv('./episodic/episodes/item_daily-totals_BlockChannelEpisode21BuildingUnstoppableOrganizationswithAragon_2017-06-24.csv')\n",
    "eps = [ep135, ep134, ep133, ep132,ep131,ep130, ep129,ep128,ep127,ep126,ep125,ep124,ep123]"
   ]
  },
  {
   "cell_type": "markdown",
   "metadata": {},
   "source": [
    "# Plotting a bit"
   ]
  },
  {
   "cell_type": "code",
   "execution_count": 18,
   "metadata": {},
   "outputs": [
    {
     "data": {
      "text/plain": [
       "3149.5384615384614"
      ]
     },
     "execution_count": 18,
     "metadata": {},
     "output_type": "execute_result"
    }
   ],
   "source": [
    "sums = []\n",
    "for ep in eps: \n",
    "    sums.append(ep.total_downloads.sum())\n",
    "print(\"You have an average of sum(sums)/len(eps)"
   ]
  },
  {
   "cell_type": "code",
   "execution_count": 19,
   "metadata": {},
   "outputs": [
    {
     "data": {
      "text/plain": [
       "13"
      ]
     },
     "execution_count": 19,
     "metadata": {},
     "output_type": "execute_result"
    }
   ],
   "source": [
    "len(sums)"
   ]
  },
  {
   "cell_type": "code",
   "execution_count": 17,
   "metadata": {
    "scrolled": false
   },
   "outputs": [
    {
     "data": {
      "text/plain": [
       "<matplotlib.axes._subplots.AxesSubplot at 0x10c847630>"
      ]
     },
     "execution_count": 17,
     "metadata": {},
     "output_type": "execute_result"
    },
    {
     "data": {
      "image/png": "[encoded data removed]",
      "text/plain": [
       "<matplotlib.figure.Figure at 0x10c851cf8>"
      ]
     },
     "metadata": {},
     "output_type": "display_data"
    }
   ],
   "source": [
    "ep123.set_index('date').total_downloads.plot()"
   ]
  },
  {
   "cell_type": "code",
   "execution_count": 12,
   "metadata": {},
   "outputs": [
    {
     "data": {
      "text/plain": [
       "<matplotlib.axes._subplots.AxesSubplot at 0x10c2557f0>"
      ]
     },
     "execution_count": 12,
     "metadata": {},
     "output_type": "execute_result"
    },
    {
     "data": {
      "image/png": "[encoded data removed]",
      "text/plain": [
       "<matplotlib.figure.Figure at 0x10c7b7358>"
      ]
     },
     "metadata": {},
     "output_type": "display_data"
    }
   ],
   "source": [
    "ep124.set_index('date').total_downloads.plot()"
   ]
  },
  {
   "cell_type": "code",
   "execution_count": 13,
   "metadata": {},
   "outputs": [
    {
     "data": {
      "text/html": [
       "<div>\n",
       "<table border=\"1\" class=\"dataframe\">\n",
       "  <thead>\n",
       "    <tr style=\"text-align: right;\">\n",
       "      <th></th>\n",
       "      <th>date</th>\n",
       "      <th>year</th>\n",
       "      <th>month</th>\n",
       "      <th>day</th>\n",
       "      <th>total_downloads</th>\n",
       "    </tr>\n",
       "  </thead>\n",
       "  <tbody>\n",
       "    <tr>\n",
       "      <th>0</th>\n",
       "      <td>2017-05-22</td>\n",
       "      <td>2017</td>\n",
       "      <td>May</td>\n",
       "      <td>22</td>\n",
       "      <td>607</td>\n",
       "    </tr>\n",
       "    <tr>\n",
       "      <th>1</th>\n",
       "      <td>2017-05-23</td>\n",
       "      <td>2017</td>\n",
       "      <td>May</td>\n",
       "      <td>23</td>\n",
       "      <td>777</td>\n",
       "    </tr>\n",
       "    <tr>\n",
       "      <th>2</th>\n",
       "      <td>2017-05-24</td>\n",
       "      <td>2017</td>\n",
       "      <td>May</td>\n",
       "      <td>24</td>\n",
       "      <td>424</td>\n",
       "    </tr>\n",
       "    <tr>\n",
       "      <th>3</th>\n",
       "      <td>2017-05-25</td>\n",
       "      <td>2017</td>\n",
       "      <td>May</td>\n",
       "      <td>25</td>\n",
       "      <td>341</td>\n",
       "    </tr>\n",
       "    <tr>\n",
       "      <th>4</th>\n",
       "      <td>2017-05-26</td>\n",
       "      <td>2017</td>\n",
       "      <td>May</td>\n",
       "      <td>26</td>\n",
       "      <td>277</td>\n",
       "    </tr>\n",
       "  </tbody>\n",
       "</table>\n",
       "</div>"
      ],
      "text/plain": [
       "         date  year month  day  total_downloads\n",
       "0  2017-05-22  2017   May   22              607\n",
       "1  2017-05-23  2017   May   23              777\n",
       "2  2017-05-24  2017   May   24              424\n",
       "3  2017-05-25  2017   May   25              341\n",
       "4  2017-05-26  2017   May   26              277"
      ]
     },
     "execution_count": 13,
     "metadata": {},
     "output_type": "execute_result"
    }
   ],
   "source": [
    "ep123.head()"
   ]
  },
  {
   "cell_type": "code",
   "execution_count": 14,
   "metadata": {},
   "outputs": [
    {
     "data": {
      "text/html": [
       "<div>\n",
       "<table border=\"1\" class=\"dataframe\">\n",
       "  <thead>\n",
       "    <tr style=\"text-align: right;\">\n",
       "      <th></th>\n",
       "      <th>date</th>\n",
       "      <th>year</th>\n",
       "      <th>month</th>\n",
       "      <th>day</th>\n",
       "      <th>total_downloads</th>\n",
       "    </tr>\n",
       "  </thead>\n",
       "  <tbody>\n",
       "    <tr>\n",
       "      <th>0</th>\n",
       "      <td>2017-05-27</td>\n",
       "      <td>2017</td>\n",
       "      <td>May</td>\n",
       "      <td>27</td>\n",
       "      <td>699</td>\n",
       "    </tr>\n",
       "    <tr>\n",
       "      <th>1</th>\n",
       "      <td>2017-05-28</td>\n",
       "      <td>2017</td>\n",
       "      <td>May</td>\n",
       "      <td>28</td>\n",
       "      <td>489</td>\n",
       "    </tr>\n",
       "    <tr>\n",
       "      <th>2</th>\n",
       "      <td>2017-05-29</td>\n",
       "      <td>2017</td>\n",
       "      <td>May</td>\n",
       "      <td>29</td>\n",
       "      <td>172</td>\n",
       "    </tr>\n",
       "    <tr>\n",
       "      <th>3</th>\n",
       "      <td>2017-05-30</td>\n",
       "      <td>2017</td>\n",
       "      <td>May</td>\n",
       "      <td>30</td>\n",
       "      <td>97</td>\n",
       "    </tr>\n",
       "    <tr>\n",
       "      <th>4</th>\n",
       "      <td>2017-05-31</td>\n",
       "      <td>2017</td>\n",
       "      <td>May</td>\n",
       "      <td>31</td>\n",
       "      <td>84</td>\n",
       "    </tr>\n",
       "  </tbody>\n",
       "</table>\n",
       "</div>"
      ],
      "text/plain": [
       "         date  year month  day  total_downloads\n",
       "0  2017-05-27  2017   May   27              699\n",
       "1  2017-05-28  2017   May   28              489\n",
       "2  2017-05-29  2017   May   29              172\n",
       "3  2017-05-30  2017   May   30               97\n",
       "4  2017-05-31  2017   May   31               84"
      ]
     },
     "execution_count": 14,
     "metadata": {},
     "output_type": "execute_result"
    }
   ],
   "source": [
    "ep124.head()"
   ]
  },
  {
   "cell_type": "code",
   "execution_count": null,
   "metadata": {
    "collapsed": true
   },
   "outputs": [],
   "source": []
  }
 ],
 "metadata": {
  "kernelspec": {
   "display_name": "Python 3",
   "language": "python",
   "name": "python3"
  },
  "language_info": {
   "codemirror_mode": {
    "name": "ipython",
    "version": 3
   },
   "file_extension": ".py",
   "mimetype": "text/x-python",
   "name": "python",
   "nbconvert_exporter": "python",
   "pygments_lexer": "ipython3",
   "version": "3.5.2"
  },
  "latex_envs": {
   "bibliofile": "biblio.bib",
   "cite_by": "apalike",
   "current_citInitial": 1,
   "eqLabelWithNumbers": true,
   "eqNumInitial": 0
  },
  "toc": {
   "nav_menu": {
    "height": "38px",
    "width": "253px"
   },
   "navigate_menu": true,
   "number_sections": true,
   "sideBar": true,
   "threshold": 4,
   "toc_cell": false,
   "toc_section_display": "block",
   "toc_window_display": false
  }
 },
 "nbformat": 4,
 "nbformat_minor": 2
}
