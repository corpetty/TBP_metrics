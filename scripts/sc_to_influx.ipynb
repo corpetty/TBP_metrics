{
 "cells": [
  {
   "cell_type": "markdown",
   "metadata": {},
   "source": [
    "# markdown"
   ]
  },
  {
   "cell_type": "code",
   "execution_count": 4,
   "metadata": {
    "collapsed": true
   },
   "outputs": [],
   "source": [
    "def dequote(s: str):\n",
    "    \"\"\"\n",
    "    If a string has single or double quotes around it, remove them.\n",
    "    Make sure the pair of quotes match.\n",
    "    If a matching pair of quotes is not found, return the string unchanged.\n",
    "    \"\"\"\n",
    "    if (s[0] == s[-1]) and s.startswith((\"'\", '\"')):\n",
    "        return s[1:-1]\n",
    "    return s"
   ]
  },
  {
   "cell_type": "code",
   "execution_count": 5,
   "metadata": {
    "collapsed": true
   },
   "outputs": [],
   "source": [
    "import pandas as pd\n",
    "import requests\n",
    "\n",
    "def get_track_downloads(show_name: str, client_id: str) -> pd.DataFrame:\n",
    "    url = 'http://api.soundcloud.com/resolve?url=http://soundcloud.com/' + show_name + '/tracks&client_id=' + client_id\n",
    "    tracks = requests.get(url=url)\n",
    "    tracks = tracks.json()\n",
    "\n",
    "    stats = []\n",
    "    for track in tracks:\n",
    "        url2 = \"https://api-v2.soundcloud.com/tracks/\" + str(track['id']) + \"?client_id=\" + client_id\n",
    "        res = requests.get(url=url2).json()\n",
    "        stats.append([res['title'], res['playback_count']])\n",
    "\n",
    "    stats = pd.DataFrame(stats, columns=['title', 'playback_count'])\n",
    "    stats['title'] = [dequote(title) for title in stats.title]\n",
    "    stats = stats.set_index('title')\n",
    "    return stats\n"
   ]
  },
  {
   "cell_type": "code",
   "execution_count": 6,
   "metadata": {},
   "outputs": [],
   "source": [
    "from datetime import timedelta, datetime\n",
    "\n",
    "client_id = 'DjQCXgNUkh7MZaqgtwPYHqeyOwdKFdPd'\n",
    "show_name = \"blockchannelshow\"\n",
    "\n",
    "tracks = get_track_downloads(show_name=show_name, client_id=client_id)\n",
    "\n",
    "date = datetime.strftime(datetime.now() - timedelta(1), '%Y-%m-%d')"
   ]
  },
  {
   "cell_type": "code",
   "execution_count": 7,
   "metadata": {},
   "outputs": [
    {
     "data": {
      "text/plain": [
       "'2017-10-01'"
      ]
     },
     "execution_count": 7,
     "metadata": {},
     "output_type": "execute_result"
    }
   ],
   "source": [
    "date"
   ]
  },
  {
   "cell_type": "code",
   "execution_count": 8,
   "metadata": {
    "collapsed": true
   },
   "outputs": [],
   "source": [
    "tracks = tracks.reset_index()"
   ]
  },
  {
   "cell_type": "code",
   "execution_count": 9,
   "metadata": {},
   "outputs": [
    {
     "data": {
      "text/html": [
       "<div>\n",
       "<style>\n",
       "    .dataframe thead tr:only-child th {\n",
       "        text-align: right;\n",
       "    }\n",
       "\n",
       "    .dataframe thead th {\n",
       "        text-align: left;\n",
       "    }\n",
       "\n",
       "    .dataframe tbody tr th {\n",
       "        vertical-align: top;\n",
       "    }\n",
       "</style>\n",
       "<table border=\"1\" class=\"dataframe\">\n",
       "  <thead>\n",
       "    <tr style=\"text-align: right;\">\n",
       "      <th></th>\n",
       "      <th>title</th>\n",
       "      <th>playback_count</th>\n",
       "    </tr>\n",
       "  </thead>\n",
       "  <tbody>\n",
       "    <tr>\n",
       "      <th>0</th>\n",
       "      <td>Episode 30: To Bee or Not to Bee</td>\n",
       "      <td>130</td>\n",
       "    </tr>\n",
       "    <tr>\n",
       "      <th>1</th>\n",
       "      <td>Episode 29: Making Sense of Cent.co</td>\n",
       "      <td>204</td>\n",
       "    </tr>\n",
       "    <tr>\n",
       "      <th>2</th>\n",
       "      <td>Episode 28: Securing the Metaverse, with Decen...</td>\n",
       "      <td>263</td>\n",
       "    </tr>\n",
       "    <tr>\n",
       "      <th>3</th>\n",
       "      <td>Episode 27: Po.et and We Didn't Even Know It</td>\n",
       "      <td>196</td>\n",
       "    </tr>\n",
       "    <tr>\n",
       "      <th>4</th>\n",
       "      <td>Episode 26: Off the Grid, with Grid+</td>\n",
       "      <td>428</td>\n",
       "    </tr>\n",
       "    <tr>\n",
       "      <th>5</th>\n",
       "      <td>Episode 25: Building Digital Communities, with...</td>\n",
       "      <td>337</td>\n",
       "    </tr>\n",
       "    <tr>\n",
       "      <th>6</th>\n",
       "      <td>Episode 24: Bringing Crypto to the World, with...</td>\n",
       "      <td>364</td>\n",
       "    </tr>\n",
       "    <tr>\n",
       "      <th>7</th>\n",
       "      <td>Episode 23: Unmasking the Future, with Metamask</td>\n",
       "      <td>367</td>\n",
       "    </tr>\n",
       "    <tr>\n",
       "      <th>8</th>\n",
       "      <td>Episode 22: Tackling the Real Estate Dinosaur,...</td>\n",
       "      <td>529</td>\n",
       "    </tr>\n",
       "    <tr>\n",
       "      <th>9</th>\n",
       "      <td>Episode 21: Building Unstoppable Organizations...</td>\n",
       "      <td>456</td>\n",
       "    </tr>\n",
       "    <tr>\n",
       "      <th>10</th>\n",
       "      <td>Episode 20: Building Across the Globe, with Co...</td>\n",
       "      <td>531</td>\n",
       "    </tr>\n",
       "    <tr>\n",
       "      <th>11</th>\n",
       "      <td>Episode 19: Virtual Land in the Clouds, with U...</td>\n",
       "      <td>309</td>\n",
       "    </tr>\n",
       "    <tr>\n",
       "      <th>12</th>\n",
       "      <td>Episode 18: Where You At? What's Your Status.im?</td>\n",
       "      <td>467</td>\n",
       "    </tr>\n",
       "    <tr>\n",
       "      <th>13</th>\n",
       "      <td>Episode 17: Putting the Fun in Coin, with Coin...</td>\n",
       "      <td>312</td>\n",
       "    </tr>\n",
       "    <tr>\n",
       "      <th>14</th>\n",
       "      <td>Episode 16: Partly Cloudy, with a Chance of  E...</td>\n",
       "      <td>505</td>\n",
       "    </tr>\n",
       "    <tr>\n",
       "      <th>15</th>\n",
       "      <td>Episode 15: A Hedge on Ethereum, with Numerai</td>\n",
       "      <td>1209</td>\n",
       "    </tr>\n",
       "    <tr>\n",
       "      <th>16</th>\n",
       "      <td>Episode 14: Ethereum Foundation Researcher, Ab...</td>\n",
       "      <td>1077</td>\n",
       "    </tr>\n",
       "    <tr>\n",
       "      <th>17</th>\n",
       "      <td>Episode 13: Decentralized Web Browsing, with B...</td>\n",
       "      <td>329</td>\n",
       "    </tr>\n",
       "    <tr>\n",
       "      <th>18</th>\n",
       "      <td>Episode 12: In Ethereum, WeTrust</td>\n",
       "      <td>498</td>\n",
       "    </tr>\n",
       "    <tr>\n",
       "      <th>19</th>\n",
       "      <td>Episode 11: Bridging Ethereum and Media with J...</td>\n",
       "      <td>244</td>\n",
       "    </tr>\n",
       "    <tr>\n",
       "      <th>20</th>\n",
       "      <td>Episode 10: A Bitcoin Venture Outside the Grea...</td>\n",
       "      <td>248</td>\n",
       "    </tr>\n",
       "    <tr>\n",
       "      <th>21</th>\n",
       "      <td>Episode 9: Getting Gamers on Ethereum with Fir...</td>\n",
       "      <td>364</td>\n",
       "    </tr>\n",
       "    <tr>\n",
       "      <th>22</th>\n",
       "      <td>Episode 8: Hit or Stay, a Bet on 21.co</td>\n",
       "      <td>1699</td>\n",
       "    </tr>\n",
       "    <tr>\n",
       "      <th>23</th>\n",
       "      <td>Episode 7: Meet Your Maker, Ethereum</td>\n",
       "      <td>649</td>\n",
       "    </tr>\n",
       "    <tr>\n",
       "      <th>24</th>\n",
       "      <td>Episode 6: Gnosis, and the Power of the Crowd</td>\n",
       "      <td>911</td>\n",
       "    </tr>\n",
       "    <tr>\n",
       "      <th>25</th>\n",
       "      <td>Episode 5: Taking One for the Team</td>\n",
       "      <td>906</td>\n",
       "    </tr>\n",
       "    <tr>\n",
       "      <th>26</th>\n",
       "      <td>Episode 4: Predicting the Future, with Augur</td>\n",
       "      <td>884</td>\n",
       "    </tr>\n",
       "    <tr>\n",
       "      <th>27</th>\n",
       "      <td>Episode 3: Zero Knowledge, the Future of Privacy</td>\n",
       "      <td>1063</td>\n",
       "    </tr>\n",
       "    <tr>\n",
       "      <th>28</th>\n",
       "      <td>Episode 2: Making Bitcoin Great, with Javascri...</td>\n",
       "      <td>1954</td>\n",
       "    </tr>\n",
       "    <tr>\n",
       "      <th>29</th>\n",
       "      <td>Episode 1: Empowering Creativity with Technology</td>\n",
       "      <td>926</td>\n",
       "    </tr>\n",
       "  </tbody>\n",
       "</table>\n",
       "</div>"
      ],
      "text/plain": [
       "                                                title  playback_count\n",
       "0                    Episode 30: To Bee or Not to Bee             130\n",
       "1                 Episode 29: Making Sense of Cent.co             204\n",
       "2   Episode 28: Securing the Metaverse, with Decen...             263\n",
       "3        Episode 27: Po.et and We Didn't Even Know It             196\n",
       "4                Episode 26: Off the Grid, with Grid+             428\n",
       "5   Episode 25: Building Digital Communities, with...             337\n",
       "6   Episode 24: Bringing Crypto to the World, with...             364\n",
       "7     Episode 23: Unmasking the Future, with Metamask             367\n",
       "8   Episode 22: Tackling the Real Estate Dinosaur,...             529\n",
       "9   Episode 21: Building Unstoppable Organizations...             456\n",
       "10  Episode 20: Building Across the Globe, with Co...             531\n",
       "11  Episode 19: Virtual Land in the Clouds, with U...             309\n",
       "12   Episode 18: Where You At? What's Your Status.im?             467\n",
       "13  Episode 17: Putting the Fun in Coin, with Coin...             312\n",
       "14  Episode 16: Partly Cloudy, with a Chance of  E...             505\n",
       "15      Episode 15: A Hedge on Ethereum, with Numerai            1209\n",
       "16  Episode 14: Ethereum Foundation Researcher, Ab...            1077\n",
       "17  Episode 13: Decentralized Web Browsing, with B...             329\n",
       "18                   Episode 12: In Ethereum, WeTrust             498\n",
       "19  Episode 11: Bridging Ethereum and Media with J...             244\n",
       "20  Episode 10: A Bitcoin Venture Outside the Grea...             248\n",
       "21  Episode 9: Getting Gamers on Ethereum with Fir...             364\n",
       "22             Episode 8: Hit or Stay, a Bet on 21.co            1699\n",
       "23               Episode 7: Meet Your Maker, Ethereum             649\n",
       "24      Episode 6: Gnosis, and the Power of the Crowd             911\n",
       "25                 Episode 5: Taking One for the Team             906\n",
       "26       Episode 4: Predicting the Future, with Augur             884\n",
       "27   Episode 3: Zero Knowledge, the Future of Privacy            1063\n",
       "28  Episode 2: Making Bitcoin Great, with Javascri...            1954\n",
       "29   Episode 1: Empowering Creativity with Technology             926"
      ]
     },
     "execution_count": 9,
     "metadata": {},
     "output_type": "execute_result"
    }
   ],
   "source": [
    "tracks"
   ]
  },
  {
   "cell_type": "code",
   "execution_count": 10,
   "metadata": {
    "collapsed": true
   },
   "outputs": [],
   "source": [
    "def create_json(title, count) -> dict:\n",
    "    return {\n",
    "        \"measurement\": \"blockchannel\",\n",
    "        \"tags\": {\n",
    "            \"episode\": title,\n",
    "        },\n",
    "        \"fields\": {\n",
    "            \"value\": count\n",
    "        }\n",
    "    }\n",
    "    "
   ]
  },
  {
   "cell_type": "code",
   "execution_count": 11,
   "metadata": {
    "collapsed": true
   },
   "outputs": [],
   "source": [
    "tracks['json'] = [create_json(title, count) for title,count in zip(tracks.title.values, tracks.playback_count.values)]"
   ]
  },
  {
   "cell_type": "code",
   "execution_count": 12,
   "metadata": {},
   "outputs": [],
   "source": [
    "import influxdb"
   ]
  },
  {
   "cell_type": "code",
   "execution_count": 23,
   "metadata": {
    "collapsed": true
   },
   "outputs": [],
   "source": [
    "client = influxdb.InfluxDBClient(host=\"192.168.1.249\", database='sc_downloads')"
   ]
  },
  {
   "cell_type": "code",
   "execution_count": 24,
   "metadata": {},
   "outputs": [
    {
     "data": {
      "text/plain": [
       "True"
      ]
     },
     "execution_count": 24,
     "metadata": {},
     "output_type": "execute_result"
    }
   ],
   "source": [
    "array = []\n",
    "for json_object in tracks.json.values:\n",
    "    array.append(json_object)\n",
    "client.write_points(array)"
   ]
  },
  {
   "cell_type": "code",
   "execution_count": 25,
   "metadata": {},
   "outputs": [
    {
     "data": {
      "text/plain": [
       "ResultSet({'('blockchannel', None)': [{'time': '2017-10-02T07:23:32.963863138Z', 'value': 263}]})"
      ]
     },
     "execution_count": 25,
     "metadata": {},
     "output_type": "execute_result"
    }
   ],
   "source": [
    "client.query(database='sc_downloads', query='SELECT \"value\" FROM \"blockchannel\" WHERE \"episode\"=\\''+tracks.title.values[2]+'\\';')"
   ]
  },
  {
   "cell_type": "code",
   "execution_count": 27,
   "metadata": {},
   "outputs": [
    {
     "data": {
      "text/plain": [
       "ResultSet({'('blockchannel', None)': [{'time': '2017-10-02T07:23:32.963863138Z', 'value': 248}, {'time': '2017-10-02T07:23:32.963863138Z', 'value': 364}, {'time': '2017-10-02T07:23:32.963863138Z', 'value': 1699}, {'time': '2017-10-02T07:23:32.963863138Z', 'value': 649}, {'time': '2017-10-02T07:23:32.963863138Z', 'value': 911}, {'time': '2017-10-02T07:23:32.963863138Z', 'value': 906}, {'time': '2017-10-02T07:23:32.963863138Z', 'value': 884}, {'time': '2017-10-02T07:23:32.963863138Z', 'value': 1063}, {'time': '2017-10-02T07:23:32.963863138Z', 'value': 130}, {'time': '2017-10-02T07:23:32.963863138Z', 'value': 1954}, {'time': '2017-10-02T07:23:32.963863138Z', 'value': 204}, {'time': '2017-10-02T07:23:32.963863138Z', 'value': 263}, {'time': '2017-10-02T07:23:32.963863138Z', 'value': 196}, {'time': '2017-10-02T07:23:32.963863138Z', 'value': 428}, {'time': '2017-10-02T07:23:32.963863138Z', 'value': 337}, {'time': '2017-10-02T07:23:32.963863138Z', 'value': 364}, {'time': '2017-10-02T07:23:32.963863138Z', 'value': 367}, {'time': '2017-10-02T07:23:32.963863138Z', 'value': 529}, {'time': '2017-10-02T07:23:32.963863138Z', 'value': 456}, {'time': '2017-10-02T07:23:32.963863138Z', 'value': 531}, {'time': '2017-10-02T07:23:32.963863138Z', 'value': 926}, {'time': '2017-10-02T07:23:32.963863138Z', 'value': 309}, {'time': '2017-10-02T07:23:32.963863138Z', 'value': 467}, {'time': '2017-10-02T07:23:32.963863138Z', 'value': 312}, {'time': '2017-10-02T07:23:32.963863138Z', 'value': 505}, {'time': '2017-10-02T07:23:32.963863138Z', 'value': 1209}, {'time': '2017-10-02T07:23:32.963863138Z', 'value': 1077}, {'time': '2017-10-02T07:23:32.963863138Z', 'value': 329}, {'time': '2017-10-02T07:23:32.963863138Z', 'value': 498}, {'time': '2017-10-02T07:23:32.963863138Z', 'value': 244}]})"
      ]
     },
     "execution_count": 27,
     "metadata": {},
     "output_type": "execute_result"
    }
   ],
   "source": [
    "client.query(database='sc_downloads', query='SELECT \"value\" FROM \"blockchannel\"')"
   ]
  },
  {
   "cell_type": "code",
   "execution_count": 22,
   "metadata": {},
   "outputs": [
    {
     "data": {
      "text/plain": [
       "'Episode 28: Securing the Metaverse, with Decentraland'"
      ]
     },
     "execution_count": 22,
     "metadata": {},
     "output_type": "execute_result"
    }
   ],
   "source": [
    "tracks.title.values[2]"
   ]
  },
  {
   "cell_type": "code",
   "execution_count": 16,
   "metadata": {
    "collapsed": true
   },
   "outputs": [],
   "source": [
    "client.create_database('sc_downloads')"
   ]
  },
  {
   "cell_type": "code",
   "execution_count": 20,
   "metadata": {
    "collapsed": true
   },
   "outputs": [],
   "source": [
    "client.create_retention_policy(name='infinite', duration=\"INF\", replication='1' , default=True)"
   ]
  },
  {
   "cell_type": "code",
   "execution_count": null,
   "metadata": {
    "collapsed": true
   },
   "outputs": [],
   "source": []
  }
 ],
 "metadata": {
  "kernelspec": {
   "display_name": "Python 3",
   "language": "python",
   "name": "python3"
  },
  "language_info": {
   "codemirror_mode": {
    "name": "ipython",
    "version": 3
   },
   "file_extension": ".py",
   "mimetype": "text/x-python",
   "name": "python",
   "nbconvert_exporter": "python",
   "pygments_lexer": "ipython3",
   "version": "3.5.2"
  },
  "latex_envs": {
   "bibliofile": "biblio.bib",
   "cite_by": "apalike",
   "current_citInitial": 1,
   "eqLabelWithNumbers": true,
   "eqNumInitial": 0
  },
  "toc": {
   "nav_menu": {
    "height": "12px",
    "width": "252px"
   },
   "navigate_menu": true,
   "number_sections": true,
   "sideBar": true,
   "threshold": 4,
   "toc_cell": false,
   "toc_section_display": "block",
   "toc_window_display": false
  }
 },
 "nbformat": 4,
 "nbformat_minor": 2
}
