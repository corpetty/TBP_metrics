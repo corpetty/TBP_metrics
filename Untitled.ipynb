{
 "cells": [
  {
   "cell_type": "code",
   "execution_count": 10,
   "metadata": {},
   "outputs": [],
   "source": [
    "import os, pandas as pd, datetime\n",
    "\n"
   ]
  },
  {
   "cell_type": "code",
   "execution_count": 11,
   "metadata": {},
   "outputs": [
    {
     "name": "stdout",
     "output_type": "stream",
     "text": [
      "Files exist\n",
      "pandas DataFrames created\n",
      "DataFrame structured in new format\n",
      "DataFrames structured in old format\n",
      "Old entries updated with newest data\n",
      "Adding the following days to the database:\n",
      "            total_downloads\n",
      "date                       \n",
      "2017-11-27             4518\n",
      "2017-11-28             2777\n",
      "2017-11-29             4692\n",
      "2017-11-30             6203\n",
      "2017-12-01             3432\n",
      "2017-12-02             1679\n",
      "2017-12-03                8\n"
     ]
    }
   ],
   "source": [
    "daily_database_filename = \"raw_data/daily-totals_2017-12-03.csv\"\n",
    "daily_additions_filename = \"raw_data/2017-12-03_export_13184.csv\"\n",
    "\n",
    "if not os.path.isfile(daily_database_filename):\n",
    "    print(\"{} does not exist, try again\".format(daily_database_filename))\n",
    "    raise FileExistsError\n",
    "if not os.path.isfile(daily_additions_filename):\n",
    "    print(\"{} does not exist, try again\".format(daily_additions_filename))\n",
    "    raise FileExistsError\n",
    "\n",
    "path = os.path.dirname(daily_database_filename)\n",
    "filename, extention = os.path.basename(daily_database_filename).split('.')\n",
    "\n",
    "print(\"Files exist\")\n",
    "\n",
    "database = pd.read_csv(daily_database_filename, parse_dates=[0])\n",
    "addition = pd.read_csv(daily_additions_filename, parse_dates=[0])\n",
    "\n",
    "print(\"pandas DataFrames created\")\n",
    "\n",
    "database = database[['date', 'total_downloads']].set_index('date')\n",
    "addition = addition.set_index('date')\n",
    "if 'requests' in addition.columns:\n",
    "    new_parse(database, addition)\n",
    "else:\n",
    "    old_parse(database, addition)"
   ]
  },
  {
   "cell_type": "code",
   "execution_count": null,
   "metadata": {
    "collapsed": true
   },
   "outputs": [],
   "source": []
  }
 ],
 "metadata": {
  "kernelspec": {
   "display_name": "Python 3",
   "language": "python",
   "name": "python3"
  },
  "language_info": {
   "codemirror_mode": {
    "name": "ipython",
    "version": 3
   },
   "file_extension": ".py",
   "mimetype": "text/x-python",
   "name": "python",
   "nbconvert_exporter": "python",
   "pygments_lexer": "ipython3",
   "version": "3.5.0"
  },
  "latex_envs": {
   "bibliofile": "biblio.bib",
   "cite_by": "apalike",
   "current_citInitial": 1,
   "eqLabelWithNumbers": true,
   "eqNumInitial": 0
  },
  "nav_menu": {},
  "toc": {
   "navigate_menu": true,
   "number_sections": true,
   "sideBar": true,
   "threshold": 6,
   "toc_cell": false,
   "toc_section_display": "block",
   "toc_window_display": false
  }
 },
 "nbformat": 4,
 "nbformat_minor": 1
}
