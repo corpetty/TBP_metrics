{
 "cells": [
  {
   "cell_type": "code",
   "execution_count": 16,
   "metadata": {
    "collapsed": true
   },
   "outputs": [],
   "source": [
    "import requests\n",
    "import pandas as pd\n",
    "import soundcloud\n",
    "%matplotlib inline"
   ]
  },
  {
   "cell_type": "code",
   "execution_count": 17,
   "metadata": {
    "collapsed": true
   },
   "outputs": [],
   "source": [
    "client_id = 'DjQCXgNUkh7MZaqgtwPYHqeyOwdKFdPd'"
   ]
  },
  {
   "cell_type": "code",
   "execution_count": 18,
   "metadata": {
    "collapsed": false
   },
   "outputs": [],
   "source": [
    "tracks = requests.get(url='http://api.soundcloud.com/resolve?url=http://soundcloud.com/cointelegraph/tracks&client_id=' + client_id)\n",
    "tracks = tracks.json()"
   ]
  },
  {
   "cell_type": "code",
   "execution_count": 26,
   "metadata": {
    "collapsed": false
   },
   "outputs": [],
   "source": [
    "stats = []\n",
    "for track in tracks:\n",
    "    url2 = \"https://api-v2.soundcloud.com/tracks/\" + str(track['id']) + \"?client_id=\" + client_id\n",
    "    res = requests.get(url=url2).json()\n",
    "    stats.append([res['title'], res['playback_count']])"
   ]
  },
  {
   "cell_type": "code",
   "execution_count": 27,
   "metadata": {
    "collapsed": false,
    "scrolled": false
   },
   "outputs": [],
   "source": [
    "sc_stats = pd.DataFrame(stats, columns=['title', 'playback_count'])"
   ]
  },
  {
   "cell_type": "code",
   "execution_count": 28,
   "metadata": {
    "collapsed": false
   },
   "outputs": [],
   "source": [
    "sc_tracks = requests.get(url='http://api.soundcloud.com/resolve?url=http://soundcloud.com/blockchannelshow/tracks&client_id=' + client_id)\n",
    "sc_tracks = sc_tracks.json()\n",
    "\n",
    "stats = []\n",
    "for track in sc_tracks:\n",
    "    url2 = \"https://api-v2.soundcloud.com/tracks/\" + str(track['id']) + \"?client_id=\" + client_id\n",
    "    res = requests.get(url=url2).json()\n",
    "    stats.append([res['title'], res['playback_count']])"
   ]
  },
  {
   "cell_type": "code",
   "execution_count": 35,
   "metadata": {
    "collapsed": false
   },
   "outputs": [
    {
     "data": {
      "text/html": [
       "<div>\n",
       "<table border=\"1\" class=\"dataframe\">\n",
       "  <thead>\n",
       "    <tr style=\"text-align: right;\">\n",
       "      <th></th>\n",
       "      <th>title</th>\n",
       "      <th>playback_count</th>\n",
       "    </tr>\n",
       "  </thead>\n",
       "  <tbody>\n",
       "    <tr>\n",
       "      <th>0</th>\n",
       "      <td>TBP107 - Like Father, Like Son</td>\n",
       "      <td>602</td>\n",
       "    </tr>\n",
       "    <tr>\n",
       "      <th>1</th>\n",
       "      <td>TBP106 - A Very Bitcoin Christmas</td>\n",
       "      <td>123</td>\n",
       "    </tr>\n",
       "    <tr>\n",
       "      <th>2</th>\n",
       "      <td>TBP105 - Music Industry 2.0</td>\n",
       "      <td>101</td>\n",
       "    </tr>\n",
       "    <tr>\n",
       "      <th>3</th>\n",
       "      <td>TBP104 - Currency to a Wider Public</td>\n",
       "      <td>104</td>\n",
       "    </tr>\n",
       "    <tr>\n",
       "      <th>4</th>\n",
       "      <td>TBP103 - A Jack of All Trades</td>\n",
       "      <td>122</td>\n",
       "    </tr>\n",
       "    <tr>\n",
       "      <th>5</th>\n",
       "      <td>TBP102 - Building Bridges Initiative</td>\n",
       "      <td>135</td>\n",
       "    </tr>\n",
       "    <tr>\n",
       "      <th>6</th>\n",
       "      <td>TBP101 - World's First Supernode Infrastructure</td>\n",
       "      <td>76</td>\n",
       "    </tr>\n",
       "    <tr>\n",
       "      <th>7</th>\n",
       "      <td>TBP100 - Thai Gone Wild</td>\n",
       "      <td>104</td>\n",
       "    </tr>\n",
       "    <tr>\n",
       "      <th>8</th>\n",
       "      <td>TBP99 - Blockchain Supercomputer</td>\n",
       "      <td>250</td>\n",
       "    </tr>\n",
       "    <tr>\n",
       "      <th>9</th>\n",
       "      <td>TBP98 - Ubitquity Part Duex</td>\n",
       "      <td>62</td>\n",
       "    </tr>\n",
       "    <tr>\n",
       "      <th>10</th>\n",
       "      <td>TBP97 - Hype or Hope</td>\n",
       "      <td>73</td>\n",
       "    </tr>\n",
       "    <tr>\n",
       "      <th>11</th>\n",
       "      <td>TBP96 - A Fireside Chat</td>\n",
       "      <td>108</td>\n",
       "    </tr>\n",
       "    <tr>\n",
       "      <th>12</th>\n",
       "      <td>TBP95 - The JOBS Act</td>\n",
       "      <td>110</td>\n",
       "    </tr>\n",
       "    <tr>\n",
       "      <th>13</th>\n",
       "      <td>TBP94 - Reputation Tokens</td>\n",
       "      <td>90</td>\n",
       "    </tr>\n",
       "    <tr>\n",
       "      <th>14</th>\n",
       "      <td>TBP93 - Cryptographic Verification</td>\n",
       "      <td>355</td>\n",
       "    </tr>\n",
       "    <tr>\n",
       "      <th>15</th>\n",
       "      <td>TBP92 - Myceliated</td>\n",
       "      <td>79</td>\n",
       "    </tr>\n",
       "    <tr>\n",
       "      <th>16</th>\n",
       "      <td>TBP91 - Exosphere Academy II</td>\n",
       "      <td>68</td>\n",
       "    </tr>\n",
       "    <tr>\n",
       "      <th>17</th>\n",
       "      <td>TBP90 - Silicon Valley in a Box</td>\n",
       "      <td>96</td>\n",
       "    </tr>\n",
       "    <tr>\n",
       "      <th>18</th>\n",
       "      <td>TBP89 - The IoT Frontier</td>\n",
       "      <td>52</td>\n",
       "    </tr>\n",
       "    <tr>\n",
       "      <th>19</th>\n",
       "      <td>TBP88 - Bitcoin Bike-Shed</td>\n",
       "      <td>75</td>\n",
       "    </tr>\n",
       "    <tr>\n",
       "      <th>20</th>\n",
       "      <td>TBP87 - The World is YOURS</td>\n",
       "      <td>91</td>\n",
       "    </tr>\n",
       "    <tr>\n",
       "      <th>21</th>\n",
       "      <td>TBP86 - Exploring Macroeconomics</td>\n",
       "      <td>43</td>\n",
       "    </tr>\n",
       "    <tr>\n",
       "      <th>22</th>\n",
       "      <td>TBP85 - Crossing the Chasm</td>\n",
       "      <td>131</td>\n",
       "    </tr>\n",
       "    <tr>\n",
       "      <th>23</th>\n",
       "      <td>TBP84 - Arcade City Glorification</td>\n",
       "      <td>141</td>\n",
       "    </tr>\n",
       "    <tr>\n",
       "      <th>24</th>\n",
       "      <td>TBP83 - Lightning Network Deep Dive</td>\n",
       "      <td>168</td>\n",
       "    </tr>\n",
       "    <tr>\n",
       "      <th>25</th>\n",
       "      <td>TBP82 - Unifying Blockchain Tech</td>\n",
       "      <td>115</td>\n",
       "    </tr>\n",
       "    <tr>\n",
       "      <th>26</th>\n",
       "      <td>TBP81 - Redefining Trust</td>\n",
       "      <td>240</td>\n",
       "    </tr>\n",
       "    <tr>\n",
       "      <th>27</th>\n",
       "      <td>TBP80 - A Means to an End</td>\n",
       "      <td>313</td>\n",
       "    </tr>\n",
       "    <tr>\n",
       "      <th>28</th>\n",
       "      <td>TBP79 - Infrastructure for a Seven Billion World</td>\n",
       "      <td>368</td>\n",
       "    </tr>\n",
       "    <tr>\n",
       "      <th>29</th>\n",
       "      <td>TBP78 - The Price of Privatization</td>\n",
       "      <td>216</td>\n",
       "    </tr>\n",
       "    <tr>\n",
       "      <th>30</th>\n",
       "      <td>Episode 4: Predicting the Future</td>\n",
       "      <td>95</td>\n",
       "    </tr>\n",
       "    <tr>\n",
       "      <th>31</th>\n",
       "      <td>Episode 3: Zero Knowledge, the Future of Privacy</td>\n",
       "      <td>882</td>\n",
       "    </tr>\n",
       "    <tr>\n",
       "      <th>32</th>\n",
       "      <td>Episode 2: Making Bitcoin Great, with Javascri...</td>\n",
       "      <td>1688</td>\n",
       "    </tr>\n",
       "    <tr>\n",
       "      <th>33</th>\n",
       "      <td>Episode 1: Empowering Creativity with Technology</td>\n",
       "      <td>590</td>\n",
       "    </tr>\n",
       "  </tbody>\n",
       "</table>\n",
       "</div>"
      ],
      "text/plain": [
       "                                                title  playback_count\n",
       "0                      TBP107 - Like Father, Like Son             602\n",
       "1                   TBP106 - A Very Bitcoin Christmas             123\n",
       "2                         TBP105 - Music Industry 2.0             101\n",
       "3                 TBP104 - Currency to a Wider Public             104\n",
       "4                       TBP103 - A Jack of All Trades             122\n",
       "5                TBP102 - Building Bridges Initiative             135\n",
       "6     TBP101 - World's First Supernode Infrastructure              76\n",
       "7                             TBP100 - Thai Gone Wild             104\n",
       "8                    TBP99 - Blockchain Supercomputer             250\n",
       "9                         TBP98 - Ubitquity Part Duex              62\n",
       "10                               TBP97 - Hype or Hope              73\n",
       "11                            TBP96 - A Fireside Chat             108\n",
       "12                               TBP95 - The JOBS Act             110\n",
       "13                          TBP94 - Reputation Tokens              90\n",
       "14                 TBP93 - Cryptographic Verification             355\n",
       "15                                 TBP92 - Myceliated              79\n",
       "16                       TBP91 - Exosphere Academy II              68\n",
       "17                    TBP90 - Silicon Valley in a Box              96\n",
       "18                           TBP89 - The IoT Frontier              52\n",
       "19                          TBP88 - Bitcoin Bike-Shed              75\n",
       "20                         TBP87 - The World is YOURS              91\n",
       "21                   TBP86 - Exploring Macroeconomics              43\n",
       "22                         TBP85 - Crossing the Chasm             131\n",
       "23                  TBP84 - Arcade City Glorification             141\n",
       "24                TBP83 - Lightning Network Deep Dive             168\n",
       "25                   TBP82 - Unifying Blockchain Tech             115\n",
       "26                           TBP81 - Redefining Trust             240\n",
       "27                          TBP80 - A Means to an End             313\n",
       "28   TBP79 - Infrastructure for a Seven Billion World             368\n",
       "29                 TBP78 - The Price of Privatization             216\n",
       "30                   Episode 4: Predicting the Future              95\n",
       "31   Episode 3: Zero Knowledge, the Future of Privacy             882\n",
       "32  Episode 2: Making Bitcoin Great, with Javascri...            1688\n",
       "33   Episode 1: Empowering Creativity with Technology             590"
      ]
     },
     "execution_count": 35,
     "metadata": {},
     "output_type": "execute_result"
    }
   ],
   "source": [
    "pd.concat([sc_stats, pd.DataFrame(stats, columns=['title', 'playback_count'])], axis=0, join='outer', join_axes=None, ignore_index=True, keys=None, levels=None, names=None, verify_integrity=False,\n",
    "          copy=True)"
   ]
  },
  {
   "cell_type": "code",
   "execution_count": null,
   "metadata": {
    "collapsed": true
   },
   "outputs": [],
   "source": [
    ""
   ]
  }
 ],
 "metadata": {
  "kernelspec": {
   "display_name": "Python 3",
   "language": "python",
   "name": "python3"
  },
  "language_info": {
   "codemirror_mode": {
    "name": "ipython",
    "version": 3.0
   },
   "file_extension": ".py",
   "mimetype": "text/x-python",
   "name": "python",
   "nbconvert_exporter": "python",
   "pygments_lexer": "ipython3",
   "version": "3.5.2"
  },
  "latex_envs": {
   "bibliofile": "biblio.bib",
   "cite_by": "apalike",
   "current_citInitial": 1.0,
   "eqLabelWithNumbers": true,
   "eqNumInitial": 0.0
  },
  "toc": {
   "nav_menu": {
    "height": "13px",
    "width": "253px"
   },
   "navigate_menu": true,
   "number_sections": true,
   "sideBar": true,
   "threshold": 4.0,
   "toc_cell": false,
   "toc_section_display": "block",
   "toc_window_display": false
  }
 },
 "nbformat": 4,
 "nbformat_minor": 0
}