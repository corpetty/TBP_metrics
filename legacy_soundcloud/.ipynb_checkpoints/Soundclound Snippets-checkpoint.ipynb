{
 "cells": [
  {
   "cell_type": "code",
   "execution_count": null,
   "metadata": {},
   "outputs": [],
   "source": [
    "import requests"
   ]
  },
  {
   "cell_type": "markdown",
   "metadata": {},
   "source": [
    "## Getting cointelegraph and BlockChannel soundcloud downloads"
   ]
  },
  {
   "cell_type": "code",
   "execution_count": null,
   "metadata": {},
   "outputs": [],
   "source": []
  },
  {
   "cell_type": "code",
   "execution_count": null,
   "metadata": {},
   "outputs": [],
   "source": [
    "client_id = 'DjQCXgNUkh7MZaqgtwPYHqeyOwdKFdPd'\n",
    "sc_tracks = requests.get(url='http://api.soundcloud.com/resolve?url=http://soundcloud.com/cointelegraph/tracks&client_id=' + client_id)\n",
    "sc_tracks = sc_tracks.json()\n",
    "\n",
    "stats = []\n",
    "for track in sc_tracks:\n",
    "    url2 = \"https://api-v2.soundcloud.com/tracks/\" + str(track['id']) + \"?client_id=\" + client_id\n",
    "    res = requests.get(url=url2).json()\n",
    "    stats.append([res['title'], res['playback_count']])\n",
    "sc_stats = pd.DataFrame(stats, columns=['title', 'playback_count'])\n",
    "\n",
    "sc_tracks = requests.get(url='http://api.soundcloud.com/resolve?url=http://soundcloud.com/blockchannelshow/tracks&client_id=' + client_id)\n",
    "sc_tracks = sc_tracks.json()\n",
    "\n",
    "stats = []\n",
    "for track in sc_tracks:\n",
    "    url2 = \"https://api-v2.soundcloud.com/tracks/\" + str(track['id']) + \"?client_id=\" + client_id\n",
    "    res = requests.get(url=url2).json()\n",
    "    stats.append(['BlockChannel ' + res['title'], res['playback_count']])\n",
    "sc_stats = pd.concat([sc_stats, pd.DataFrame(stats, columns=['title', 'playback_count'])], axis=0, join='outer', join_axes=None, ignore_index=True, keys=None, levels=None, names=None, verify_integrity=False,\n",
    "          copy=True)"
   ]
  },
  {
   "cell_type": "code",
   "execution_count": 1,
   "metadata": {},
   "outputs": [
    {
     "ename": "NameError",
     "evalue": "name 'sc_stats' is not defined",
     "output_type": "error",
     "traceback": [
      "\u001b[0;31m---------------------------------------------------------------------------\u001b[0m",
      "\u001b[0;31mNameError\u001b[0m                                 Traceback (most recent call last)",
      "\u001b[0;32m<ipython-input-1-bdc91560b5c8>\u001b[0m in \u001b[0;36m<module>\u001b[0;34m()\u001b[0m\n\u001b[1;32m      1\u001b[0m \u001b[0;31m# Fix for naming discrepency between SC and LibSyn\u001b[0m\u001b[0;34m\u001b[0m\u001b[0;34m\u001b[0m\u001b[0m\n\u001b[0;32m----> 2\u001b[0;31m \u001b[0msc_stats\u001b[0m\u001b[0;34m.\u001b[0m\u001b[0mloc\u001b[0m\u001b[0;34m[\u001b[0m\u001b[0msc_stats\u001b[0m\u001b[0;34m.\u001b[0m\u001b[0mtitle\u001b[0m \u001b[0;34m==\u001b[0m \u001b[0;34m'TBP108 - Ether.Camp'\u001b[0m\u001b[0;34m,\u001b[0m \u001b[0;34m'title'\u001b[0m\u001b[0;34m]\u001b[0m \u001b[0;34m=\u001b[0m \u001b[0;34m\"TBP108 - Ether Camp\"\u001b[0m\u001b[0;34m\u001b[0m\u001b[0m\n\u001b[0m\u001b[1;32m      3\u001b[0m \u001b[0msc_stats\u001b[0m\u001b[0;34m.\u001b[0m\u001b[0mloc\u001b[0m\u001b[0;34m[\u001b[0m\u001b[0msc_stats\u001b[0m\u001b[0;34m.\u001b[0m\u001b[0mtitle\u001b[0m \u001b[0;34m==\u001b[0m \u001b[0;34m\"BlockChannel Episode 16: Partly Cloudy, with a Chance of  Ethereum\"\u001b[0m\u001b[0;34m,\u001b[0m \u001b[0;34m'title'\u001b[0m\u001b[0;34m]\u001b[0m \u001b[0;34m=\u001b[0m \u001b[0;34m\"BC16: Partly Cloudy, with a Chance of Ethereum\"\u001b[0m\u001b[0;34m\u001b[0m\u001b[0m\n\u001b[1;32m      4\u001b[0m \u001b[0msc_stats\u001b[0m\u001b[0;34m.\u001b[0m\u001b[0mloc\u001b[0m\u001b[0;34m[\u001b[0m\u001b[0;34m[\u001b[0m\u001b[0;34m'Episode 18'\u001b[0m \u001b[0;32min\u001b[0m \u001b[0mtitle\u001b[0m \u001b[0;32mfor\u001b[0m \u001b[0mtitle\u001b[0m \u001b[0;32min\u001b[0m \u001b[0msc_stats\u001b[0m\u001b[0;34m.\u001b[0m\u001b[0mtitle\u001b[0m\u001b[0;34m.\u001b[0m\u001b[0mvalues\u001b[0m\u001b[0;34m]\u001b[0m\u001b[0;34m,\u001b[0m \u001b[0;34m'title'\u001b[0m\u001b[0;34m]\u001b[0m \u001b[0;34m=\u001b[0m \u001b[0;34m'BC18: Where You At? What\\'s Your Status.im?'\u001b[0m\u001b[0;34m\u001b[0m\u001b[0m\n",
      "\u001b[0;31mNameError\u001b[0m: name 'sc_stats' is not defined"
     ]
    }
   ],
   "source": [
    "# Fix for naming discrepency between SC and LibSyn\n",
    "sc_stats.loc[sc_stats.title == 'TBP108 - Ether.Camp', 'title'] = \"TBP108 - Ether Camp\"\n",
    "sc_stats.loc[sc_stats.title == \"BlockChannel Episode 16: Partly Cloudy, with a Chance of  Ethereum\", 'title'] = \"BC16: Partly Cloudy, with a Chance of Ethereum\"\n",
    "sc_stats.loc[['Episode 18' in title for title in sc_stats.title.values], 'title'] = 'BC18: Where You At? What\\'s Your Status.im?'"
   ]
  },
  {
   "cell_type": "code",
   "execution_count": null,
   "metadata": {},
   "outputs": [],
   "source": [
    "sc_stats.loc[['BC18' in title for title in sc_stats.title.values], 'title']"
   ]
  },
  {
   "cell_type": "code",
   "execution_count": null,
   "metadata": {},
   "outputs": [],
   "source": []
  }
 ],
 "metadata": {
  "kernelspec": {
   "display_name": "Python 3",
   "language": "python",
   "name": "python3"
  },
  "language_info": {
   "codemirror_mode": {
    "name": "ipython",
    "version": 3
   },
   "file_extension": ".py",
   "mimetype": "text/x-python",
   "name": "python",
   "nbconvert_exporter": "python",
   "pygments_lexer": "ipython3",
   "version": "3.5.0"
  }
 },
 "nbformat": 4,
 "nbformat_minor": 2
}
