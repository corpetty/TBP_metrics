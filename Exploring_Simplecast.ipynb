{
 "cells": [
  {
   "cell_type": "code",
   "execution_count": 2,
   "id": "e1970100-3b92-47b6-9013-1527f79e5ccc",
   "metadata": {},
   "outputs": [],
   "source": [
    "from requests_ratelimiter import LimiterSession as Session\n",
    "import json\n",
    "import pandas as pd\n",
    "import ast"
   ]
  },
  {
   "cell_type": "markdown",
   "id": "9e24c51c-b4f1-4c08-9dfc-de1b045cb6a6",
   "metadata": {},
   "source": [
    "## Storing and Loading Data"
   ]
  },
  {
   "cell_type": "code",
   "execution_count": null,
   "id": "bc9ecccb-ca89-444e-bcf7-c805f63ee33f",
   "metadata": {},
   "outputs": [],
   "source": [
    "# Storing from previous fetches\n",
    "df_downloads.to_feather(\"total_podcast_downloads.feather\")\n",
    "df.to_feather(\"tbp_episodic_downloads.feather\")\n",
    "df_hio.to_feather(\"hio_episodic_downloads.feather\")"
   ]
  },
  {
   "cell_type": "code",
   "execution_count": 4,
   "id": "e717b5e1-2259-423a-881b-511e47520bdc",
   "metadata": {},
   "outputs": [],
   "source": [
    "# Loading from already stored feather\n",
    "df_downloads = pd.read_feather(\"total_podcast_downloads.feather\")\n",
    "df = pd.read_feather(\"tbp_episodic_downloads.feather\")\n",
    "df_hio = pd.read_feather(\"hio_episodic_downloads.feather\")"
   ]
  },
  {
   "cell_type": "markdown",
   "id": "5b52aec6-8740-4b27-8802-587a02823a09",
   "metadata": {},
   "source": [
    "## Getting initial podcast and episode info from Simplecast"
   ]
  },
  {
   "cell_type": "code",
   "execution_count": 4,
   "id": "cae9f85d-9c8a-4596-920f-c391627a095d",
   "metadata": {},
   "outputs": [],
   "source": [
    "# Setting up session to be used\n",
    "### NOTE: Simplecast API has a rate limit of 100 requests per minute. The use of the the Session should be set to this\n",
    "bearer = 'eyJhcGlfa2V5IjoiOTQ1YjhkZjViNDY5MjNlM2ZkZjE2NDJjMWI5ZDE2MmQifQ==' # Corey's key\n",
    "# bearer = 'eyJhcGlfa2V5IjoiYzAxMzg3ODhhNmYzOWFmYjQ0MmYxNTFmOWIzMzg1OTIifQ==' # Jessie's key (Doesn't seem to work)\n",
    "\n",
    "session = Session(per_minute=100)\n",
    "session.headers = {'authorization':'Bearer {}'.format(bearer)}"
   ]
  },
  {
   "cell_type": "code",
   "execution_count": 78,
   "id": "c55977a7-a0a2-416a-9946-890750c12efb",
   "metadata": {},
   "outputs": [],
   "source": [
    "r = session.get('https://api.simplecast.com/podcasts')\n",
    "podcasts = json.loads(r.text)"
   ]
  },
  {
   "cell_type": "code",
   "execution_count": 79,
   "id": "361d77e4-8780-4162-a00c-05dcc9fb29b7",
   "metadata": {},
   "outputs": [],
   "source": [
    "podcast_ids = []\n",
    "for podcast in podcasts['collection']:\n",
    "    podcast_ids.append({\"title\": podcast['title'], \"id\" : podcast['id']})"
   ]
  },
  {
   "cell_type": "code",
   "execution_count": 80,
   "id": "9f1e7a8d-f618-4eb9-8fae-47c059e4e9ab",
   "metadata": {},
   "outputs": [],
   "source": [
    "podcast_details = []\n",
    "for podcast in podcast_ids:\n",
    "    r = session.get('https://api.simplecast.com/podcasts/{}'.format(podcast[\"id\"]))\n",
    "    res_podcast = json.loads(r.text)\n",
    "    podcast_details.append(res_podcast)"
   ]
  },
  {
   "cell_type": "markdown",
   "id": "419dcdb3-afe7-40ff-9be5-b9ba00ad0684",
   "metadata": {},
   "source": [
    "## Get General Podcast Download Analytics\n",
    "#### Updated 2023-01-30 1:00 PM EST"
   ]
  },
  {
   "cell_type": "code",
   "execution_count": 83,
   "id": "8718037a-6a6d-4419-8719-70e205b54a03",
   "metadata": {},
   "outputs": [],
   "source": [
    "# Define a bunch of useful functions to be used when extracting info from JSON into DataFrames\n",
    "def return_id(json_str):\n",
    "    return json_str['id']\n",
    "\n",
    "def return_downloads(json_str):\n",
    "    return json_str['total']\n",
    "\n",
    "def return_pubdate(json_str):\n",
    "    return json_str['feeds']['collection'][0]['published_at']\n",
    "\n",
    "def get_show(title):\n",
    "    if \"Hashing\" in title:\n",
    "        return \"HIO\"\n",
    "    elif \"HIO\" in title:\n",
    "        return \"HIO\"\n",
    "    else:\n",
    "        return \"TBPN\""
   ]
  },
  {
   "cell_type": "code",
   "execution_count": 81,
   "id": "5bc1b838-7448-484a-8403-9c28ea3baaa5",
   "metadata": {},
   "outputs": [],
   "source": [
    "podcast_analytics = []\n",
    "for podcast in podcast_ids:\n",
    "    r = session.get('https://api.simplecast.com/analytics/downloads?podcast={}'.format(podcast[\"id\"]))\n",
    "    res_podcast = json.loads(r.text)\n",
    "    podcast_analytics.append({\"show\": podcast['title'], \"analytics\": res_podcast})"
   ]
  },
  {
   "cell_type": "code",
   "execution_count": 84,
   "id": "7696216f-102f-4a93-9d6d-80f48b6f3074",
   "metadata": {},
   "outputs": [],
   "source": [
    "df_downloads = pd.DataFrame(podcast_analytics)"
   ]
  },
  {
   "cell_type": "code",
   "execution_count": 6,
   "id": "0792cbe9-7dbb-4f8f-99f5-963c1e9dd137",
   "metadata": {},
   "outputs": [
    {
     "data": {
      "text/html": [
       "<div>\n",
       "<style scoped>\n",
       "    .dataframe tbody tr th:only-of-type {\n",
       "        vertical-align: middle;\n",
       "    }\n",
       "\n",
       "    .dataframe tbody tr th {\n",
       "        vertical-align: top;\n",
       "    }\n",
       "\n",
       "    .dataframe thead th {\n",
       "        text-align: right;\n",
       "    }\n",
       "</style>\n",
       "<table border=\"1\" class=\"dataframe\">\n",
       "  <thead>\n",
       "    <tr style=\"text-align: right;\">\n",
       "      <th></th>\n",
       "      <th>show</th>\n",
       "      <th>analytics</th>\n",
       "      <th>id</th>\n",
       "      <th>total_downloads</th>\n",
       "    </tr>\n",
       "  </thead>\n",
       "  <tbody>\n",
       "    <tr>\n",
       "      <th>0</th>\n",
       "      <td>Hashing It Out</td>\n",
       "      <td>{'by_interval': [{'downloads_percent': 0.08178...</td>\n",
       "      <td>b54c0885-7c72-415d-b032-7d294b78d785</td>\n",
       "      <td>269</td>\n",
       "    </tr>\n",
       "    <tr>\n",
       "      <th>1</th>\n",
       "      <td>The Bitcoin Podcast</td>\n",
       "      <td>{'by_interval': [{'downloads_percent': 0.0, 'd...</td>\n",
       "      <td>b623b331-ffef-40c4-918d-b35a07ee8729</td>\n",
       "      <td>2063387</td>\n",
       "    </tr>\n",
       "  </tbody>\n",
       "</table>\n",
       "</div>"
      ],
      "text/plain": [
       "                  show                                          analytics  \\\n",
       "0       Hashing It Out  {'by_interval': [{'downloads_percent': 0.08178...   \n",
       "1  The Bitcoin Podcast  {'by_interval': [{'downloads_percent': 0.0, 'd...   \n",
       "\n",
       "                                     id  total_downloads  \n",
       "0  b54c0885-7c72-415d-b032-7d294b78d785              269  \n",
       "1  b623b331-ffef-40c4-918d-b35a07ee8729          2063387  "
      ]
     },
     "execution_count": 6,
     "metadata": {},
     "output_type": "execute_result"
    }
   ],
   "source": [
    "df_downloads"
   ]
  },
  {
   "cell_type": "code",
   "execution_count": 88,
   "id": "601fc6c3-f110-409d-9aed-8621dabd4ef5",
   "metadata": {},
   "outputs": [],
   "source": [
    "df_downloads['id'] = df_downloads['analytics'].apply(return_id).copy()\n",
    "df_downloads['total_downloads'] = df_downloads['analytics'].apply(return_downloads).copy()"
   ]
  },
  {
   "cell_type": "markdown",
   "id": "1059089b-886e-4a31-b299-1ce342128df8",
   "metadata": {
    "jp-MarkdownHeadingCollapsed": true,
    "tags": []
   },
   "source": [
    "## Get HIO ids and associated download data\n",
    "#### Updated 2023-01-30 1:00 PM EST"
   ]
  },
  {
   "cell_type": "code",
   "execution_count": 32,
   "id": "0bf85a64-a8b6-4cb5-83b5-15fabbd9a77b",
   "metadata": {},
   "outputs": [],
   "source": [
    "session = requests.Session()\n",
    "session.headers.update({'authorization':'Bearer {}'.format(bearer)})\n",
    "\n",
    "def get_jobs():\n",
    "    url = \"https://api.simplecast.com/podcasts/{}/episodes\".format(podcast_ids[0]['id'] )\n",
    "    first_page = session.get(url).json()\n",
    "    yield first_page\n",
    "        \n",
    "    while first_page['pages']['next'] != None:\n",
    "        first_page = session.get(first_page['pages']['next']['href']).json()\n",
    "        yield first_page\n",
    "\n",
    "pages = [page for page in get_jobs()]"
   ]
  },
  {
   "cell_type": "code",
   "execution_count": 33,
   "id": "8913c811-6242-4217-9696-c76b35218ec0",
   "metadata": {},
   "outputs": [],
   "source": [
    "hio_episode_ids = []\n",
    "for page in pages:\n",
    "    for episode in page['collection']:\n",
    "        hio_episode_ids.append({\"title\": episode['title'], 'id': episode['id']})"
   ]
  },
  {
   "cell_type": "code",
   "execution_count": 68,
   "id": "85497657-ebc9-4d2f-b62a-9b518c725ccd",
   "metadata": {},
   "outputs": [],
   "source": [
    "for episode in hio_episode_ids:\n",
    "    url = \"https://api.simplecast.com/analytics/downloads?episode={}\".format(episode['id'])\n",
    "    episode_json = session.get(url).json()\n",
    "    hio_episodic_downloads.append({\"title\": episode['title'], \"downloads\":episode_json})\n",
    "                                                                             "
   ]
  },
  {
   "cell_type": "code",
   "execution_count": 69,
   "id": "c573496c-82b1-4724-b506-4eab5feee8e5",
   "metadata": {},
   "outputs": [],
   "source": [
    "df_hio = pd.DataFrame(hio_episodic_downloads)\n",
    "df_hio['id'] = df_hio['downloads'].apply(return_id).copy()\n",
    "df_hio['total_downloads'] = df_hio['downloads'].apply(return_downloads).copy()\n",
    "df_hio['published_at'] = df_hio['downloads'].apply(return_pubdate).copy()\n",
    "df_hio['show'] = df_hio['title'].apply(get_show).copy()\n",
    "df_hio = df_hio.drop_duplicates(subset=['id'])"
   ]
  },
  {
   "cell_type": "markdown",
   "id": "3dbf58bd-906c-421d-aae6-1e5b39e4d3cc",
   "metadata": {
    "jp-MarkdownHeadingCollapsed": true,
    "tags": []
   },
   "source": [
    "## Get TBP Episodic ids and associated downloads data\n",
    "#### Updated 2023-01-30 1:00 PM EST"
   ]
  },
  {
   "cell_type": "code",
   "execution_count": 98,
   "id": "16793183-0c07-4790-855e-b36e819516f6",
   "metadata": {},
   "outputs": [],
   "source": [
    "session = requests.Session()\n",
    "\n",
    "def get_jobs():\n",
    "    url = \"https://api.simplecast.com/podcasts/{}/episodes\".format(podcast_ids[1]['id'] )\n",
    "    first_page = session.get(url).json()\n",
    "    yield first_page\n",
    "        \n",
    "    while first_page['pages']['next'] != None:\n",
    "        first_page = session.get(first_page['pages']['next']['href'], headers={'authorization':'Bearer {}'.format(bearer)}).json()\n",
    "        yield first_page\n",
    "\n",
    "pages = [page for page in get_jobs()]"
   ]
  },
  {
   "cell_type": "code",
   "execution_count": 99,
   "id": "df225e9a-e561-444e-8941-dea1730a9d79",
   "metadata": {},
   "outputs": [],
   "source": [
    "tbp_episode_ids = []\n",
    "for page in pages:\n",
    "    for episode in page['collection']:\n",
    "        tbp_episode_ids.append({\"title\": episode['title'], 'id': episode['id']})"
   ]
  },
  {
   "cell_type": "code",
   "execution_count": 101,
   "id": "46ad35c3-8972-4c64-8975-a20b90e24493",
   "metadata": {},
   "outputs": [],
   "source": [
    "session = requests.Session()\n",
    "\n",
    "tbp_episodic_downloads = []\n",
    "for episode in tbp_episode_ids:\n",
    "    url = \"https://api.simplecast.com/analytics/downloads?episode={}\".format(episode['id'])\n",
    "    episode_json = session.get(url, headers={'authorization':'Bearer {}'.format(bearer)}).json()\n",
    "    tbp_episodic_downloads.append({\"title\": episode['title'], \"downloads\":episode_json})"
   ]
  },
  {
   "cell_type": "code",
   "execution_count": 6,
   "id": "336c46df-85fd-4136-abc3-a5ed44d256ad",
   "metadata": {},
   "outputs": [],
   "source": [
    "df = pd.DataFrame(tbp_episodic_downloads)\n",
    "df['id'] = df['downloads'].apply(return_id).copy()\n",
    "df['total_downloads'] = df['downloads'].apply(return_downloads).copy()\n",
    "df['published_at'] = df['downloads'].apply(return_pubdate).copy()\n",
    "df['show'] = df['title'].apply(get_show).copy()\n",
    "df = df.drop_duplicates(subset=['id'])"
   ]
  },
  {
   "cell_type": "markdown",
   "id": "c529039e-f6f1-42a7-8e31-3e7d3376aa60",
   "metadata": {},
   "source": [
    "## Print out some Stats"
   ]
  },
  {
   "cell_type": "code",
   "execution_count": 5,
   "id": "f4e13e34-5764-46ca-949e-216ff3ed28d6",
   "metadata": {},
   "outputs": [
    {
     "name": "stdout",
     "output_type": "stream",
     "text": [
      "HIO has 330444 downloads over 118 shows for and average of 2800.3728813559323 downloads/show\n",
      "TBP has 1728937 downloads over 891 shows for and average of 1940.4455667789 downloads/show\n"
     ]
    }
   ],
   "source": [
    "hio_total_downloads = df[df['show'] == 'HIO'].total_downloads.sum()\n",
    "hio_num_shows = len(df[df['show'] == 'HIO'].total_downloads)\n",
    "\n",
    "tbp_total_downloads = df[df['show'] == 'TBPN'].total_downloads.sum()\n",
    "tbp_num_shows = len(df[df['show'] == 'TBPN'].total_downloads)\n",
    "\n",
    "\n",
    "print(\"HIO has {} downloads over {} shows for and average of {} downloads/show\".format(hio_total_downloads, hio_num_shows, hio_total_downloads/hio_num_shows))\n",
    "print(\"TBP has {} downloads over {} shows for and average of {} downloads/show\".format(tbp_total_downloads, tbp_num_shows, tbp_total_downloads/tbp_num_shows))"
   ]
  },
  {
   "cell_type": "code",
   "execution_count": null,
   "id": "5db3e986-491c-4134-8fb1-42521c6bed60",
   "metadata": {},
   "outputs": [],
   "source": [
    "\n"
   ]
  }
 ],
 "metadata": {
  "kernelspec": {
   "display_name": "Python 3 (ipykernel)",
   "language": "python",
   "name": "python3"
  },
  "language_info": {
   "codemirror_mode": {
    "name": "ipython",
    "version": 3
   },
   "file_extension": ".py",
   "mimetype": "text/x-python",
   "name": "python",
   "nbconvert_exporter": "python",
   "pygments_lexer": "ipython3",
   "version": "3.10.6"
  }
 },
 "nbformat": 4,
 "nbformat_minor": 5
}
