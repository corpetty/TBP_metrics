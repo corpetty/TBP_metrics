{
 "cells": [
  {
   "cell_type": "code",
   "execution_count": 2,
   "id": "45b89169-df84-4b8e-bcf1-2e072e2747b7",
   "metadata": {},
   "outputs": [],
   "source": [
    "bearer = 'eyJhcGlfa2V5IjoiOTQ1YjhkZjViNDY5MjNlM2ZkZjE2NDJjMWI5ZDE2MmQifQ=='"
   ]
  },
  {
   "cell_type": "code",
   "execution_count": 129,
   "id": "e1970100-3b92-47b6-9013-1527f79e5ccc",
   "metadata": {},
   "outputs": [],
   "source": [
    "import requests\n",
    "import json\n",
    "import pandas as pd\n",
    "import pickle\n",
    "import ast"
   ]
  },
  {
   "cell_type": "code",
   "execution_count": 19,
   "id": "c55977a7-a0a2-416a-9946-890750c12efb",
   "metadata": {},
   "outputs": [],
   "source": [
    "r = requests.get('https://api.simplecast.com/podcasts', headers={'authorization':'Bearer {}'.format(bearer)})\n",
    "podcasts = json.loads(r.text)"
   ]
  },
  {
   "cell_type": "code",
   "execution_count": 25,
   "id": "361d77e4-8780-4162-a00c-05dcc9fb29b7",
   "metadata": {},
   "outputs": [
    {
     "data": {
      "text/plain": [
       "[{'title': 'Hashing It Out', 'id': 'b54c0885-7c72-415d-b032-7d294b78d785'},\n",
       " {'title': 'The Bitcoin Podcast',\n",
       "  'id': 'b623b331-ffef-40c4-918d-b35a07ee8729'}]"
      ]
     },
     "execution_count": 25,
     "metadata": {},
     "output_type": "execute_result"
    }
   ],
   "source": [
    "podcast_ids = []\n",
    "for podcast in podcasts['collection']:\n",
    "    podcast_ids.append({\"title\": podcast['title'], \"id\" : podcast['id']})\n",
    "podcast_ids"
   ]
  },
  {
   "cell_type": "code",
   "execution_count": 27,
   "id": "9f1e7a8d-f618-4eb9-8fae-47c059e4e9ab",
   "metadata": {},
   "outputs": [],
   "source": [
    "podcast_details = []\n",
    "for podcast in podcast_ids:\n",
    "    r = requests.get('https://api.simplecast.com/podcasts/{}'.format(podcast[\"id\"]), headers={'authorization':'Bearer {}'.format(bearer)})\n",
    "    res_podcast = json.loads(r.text)\n",
    "    podcast_details.append(res_podcast)"
   ]
  },
  {
   "cell_type": "code",
   "execution_count": 70,
   "id": "5bc1b838-7448-484a-8403-9c28ea3baaa5",
   "metadata": {},
   "outputs": [],
   "source": [
    "podcast_analytics = []\n",
    "for podcast in podcast_ids:\n",
    "    r = requests.get('https://api.simplecast.com/analytics/downloads?podcast={}'.format(podcast[\"id\"]), headers={'authorization':'Bearer {}'.format(bearer)})\n",
    "    res_podcast = json.loads(r.text)\n",
    "    podcast_analytics.append({\"show\": podcast['title'], \"analytics\": res_podcast})"
   ]
  },
  {
   "cell_type": "code",
   "execution_count": 81,
   "id": "0bf85a64-a8b6-4cb5-83b5-15fabbd9a77b",
   "metadata": {},
   "outputs": [],
   "source": [
    "session = requests.Session()\n",
    "session.headers.update({'authorization':'Bearer {}'.format(bearer)})\n",
    "\n",
    "def get_jobs():\n",
    "    url = \"https://api.simplecast.com/podcasts/{}/episodes\".format(podcast_ids[0]['id'] )\n",
    "    first_page = session.get(url).json()\n",
    "    yield first_page\n",
    "        \n",
    "    while first_page['pages']['next'] != None:\n",
    "        first_page = session.get(first_page['pages']['next']['href']).json()\n",
    "        yield first_page\n",
    "\n",
    "pages = [page for page in get_jobs()]"
   ]
  },
  {
   "cell_type": "code",
   "execution_count": 87,
   "id": "8913c811-6242-4217-9696-c76b35218ec0",
   "metadata": {},
   "outputs": [],
   "source": [
    "hio_episode_ids = []\n",
    "for page in pages:\n",
    "    for episode in page['collection']:\n",
    "        hio_episode_ids.append({\"title\": episode['title'], 'id': episode['id']})"
   ]
  },
  {
   "cell_type": "code",
   "execution_count": 91,
   "id": "13420090-6a16-4c79-a3a4-6d6656e22024",
   "metadata": {},
   "outputs": [
    {
     "data": {
      "text/html": [
       "<div>\n",
       "<style scoped>\n",
       "    .dataframe tbody tr th:only-of-type {\n",
       "        vertical-align: middle;\n",
       "    }\n",
       "\n",
       "    .dataframe tbody tr th {\n",
       "        vertical-align: top;\n",
       "    }\n",
       "\n",
       "    .dataframe thead th {\n",
       "        text-align: right;\n",
       "    }\n",
       "</style>\n",
       "<table border=\"1\" class=\"dataframe\">\n",
       "  <thead>\n",
       "    <tr style=\"text-align: right;\">\n",
       "      <th></th>\n",
       "      <th>title</th>\n",
       "      <th>id</th>\n",
       "    </tr>\n",
       "  </thead>\n",
       "  <tbody>\n",
       "    <tr>\n",
       "      <th>0</th>\n",
       "      <td>Flash Hash: 01/09/2023</td>\n",
       "      <td>83cdd8b9-fbe2-4836-8268-f7cc7acde85f</td>\n",
       "    </tr>\n",
       "    <tr>\n",
       "      <th>1</th>\n",
       "      <td>Flash Hash 01/02/2023</td>\n",
       "      <td>dd9aebfa-26b6-496e-b1dc-25c0414aab24</td>\n",
       "    </tr>\n",
       "    <tr>\n",
       "      <th>2</th>\n",
       "      <td>Hashing It Out Personals: Dee Ferguson</td>\n",
       "      <td>792515d4-3c8d-47d4-8aa5-973ec481e9f6</td>\n",
       "    </tr>\n",
       "    <tr>\n",
       "      <th>3</th>\n",
       "      <td>Application infrastructure Pt. 2</td>\n",
       "      <td>ac22910b-3633-4a13-880c-b74f0773016c</td>\n",
       "    </tr>\n",
       "    <tr>\n",
       "      <th>4</th>\n",
       "      <td>Flash Hash: 12/05/2022</td>\n",
       "      <td>8e1da6b6-20f7-48ff-a030-eab5d94af6d1</td>\n",
       "    </tr>\n",
       "    <tr>\n",
       "      <th>...</th>\n",
       "      <td>...</td>\n",
       "      <td>...</td>\n",
       "    </tr>\n",
       "    <tr>\n",
       "      <th>249</th>\n",
       "      <td>Hashing It Out #5: Zaki Manian</td>\n",
       "      <td>b16c7b95-7890-4eb4-bb59-f2ac69a51bc0</td>\n",
       "    </tr>\n",
       "    <tr>\n",
       "      <th>250</th>\n",
       "      <td>Hashing It Out #4: William O'Beirne</td>\n",
       "      <td>b35c9546-2bfb-44d6-80c2-cc732985e048</td>\n",
       "    </tr>\n",
       "    <tr>\n",
       "      <th>251</th>\n",
       "      <td>Hashing It Out #3: Fabian Vogelsteller</td>\n",
       "      <td>73ccb8c5-70ff-454a-9304-5a9fb27715b7</td>\n",
       "    </tr>\n",
       "    <tr>\n",
       "      <th>252</th>\n",
       "      <td>Hashing It Out #2: Orie Steele</td>\n",
       "      <td>7f3eab85-b949-4781-a32e-80e8bd9fadac</td>\n",
       "    </tr>\n",
       "    <tr>\n",
       "      <th>253</th>\n",
       "      <td>Hashing It Out #1: Nick Johnson</td>\n",
       "      <td>b90fc932-b50f-4367-8ede-ceda3726d4db</td>\n",
       "    </tr>\n",
       "  </tbody>\n",
       "</table>\n",
       "<p>254 rows × 2 columns</p>\n",
       "</div>"
      ],
      "text/plain": [
       "                                      title  \\\n",
       "0                    Flash Hash: 01/09/2023   \n",
       "1                     Flash Hash 01/02/2023   \n",
       "2    Hashing It Out Personals: Dee Ferguson   \n",
       "3          Application infrastructure Pt. 2   \n",
       "4                    Flash Hash: 12/05/2022   \n",
       "..                                      ...   \n",
       "249          Hashing It Out #5: Zaki Manian   \n",
       "250     Hashing It Out #4: William O'Beirne   \n",
       "251  Hashing It Out #3: Fabian Vogelsteller   \n",
       "252          Hashing It Out #2: Orie Steele   \n",
       "253         Hashing It Out #1: Nick Johnson   \n",
       "\n",
       "                                       id  \n",
       "0    83cdd8b9-fbe2-4836-8268-f7cc7acde85f  \n",
       "1    dd9aebfa-26b6-496e-b1dc-25c0414aab24  \n",
       "2    792515d4-3c8d-47d4-8aa5-973ec481e9f6  \n",
       "3    ac22910b-3633-4a13-880c-b74f0773016c  \n",
       "4    8e1da6b6-20f7-48ff-a030-eab5d94af6d1  \n",
       "..                                    ...  \n",
       "249  b16c7b95-7890-4eb4-bb59-f2ac69a51bc0  \n",
       "250  b35c9546-2bfb-44d6-80c2-cc732985e048  \n",
       "251  73ccb8c5-70ff-454a-9304-5a9fb27715b7  \n",
       "252  7f3eab85-b949-4781-a32e-80e8bd9fadac  \n",
       "253  b90fc932-b50f-4367-8ede-ceda3726d4db  \n",
       "\n",
       "[254 rows x 2 columns]"
      ]
     },
     "execution_count": 91,
     "metadata": {},
     "output_type": "execute_result"
    }
   ],
   "source": [
    "pd.DataFrame(hio_episode_ids)"
   ]
  },
  {
   "cell_type": "code",
   "execution_count": 96,
   "id": "85497657-ebc9-4d2f-b62a-9b518c725ccd",
   "metadata": {},
   "outputs": [],
   "source": [
    "session = requests.Session()\n",
    "\n",
    "hio_episodic_downloads = []\n",
    "for episode in hio_episode_ids:\n",
    "    url = \"https://api.simplecast.com/analytics/downloads?episode={}\".format(episode['id'])\n",
    "    episode_json = session.get(url, headers={'authorization':'Bearer {}'.format(bearer)}).json()\n",
    "    hio_episodic_downloads.append({\"title\": episode['title'], \"downloads\":episode_json})\n",
    "                                                                             "
   ]
  },
  {
   "cell_type": "code",
   "execution_count": 97,
   "id": "c573496c-82b1-4724-b506-4eab5feee8e5",
   "metadata": {},
   "outputs": [
    {
     "data": {
      "text/plain": [
       "{'title': 'Flash Hash: 01/09/2023',\n",
       " 'downloads': {'href': 'https://api.simplecast.com/analytics/downloads?episode=83cdd8b9-fbe2-4836-8268-f7cc7acde85f',\n",
       "  'total': 24,\n",
       "  'interval': 'day',\n",
       "  'id': '83cdd8b9-fbe2-4836-8268-f7cc7acde85f',\n",
       "  'feeds': {'collection': [{'status': 'published',\n",
       "     'scheduled_for': None,\n",
       "     'published_at': '2023-01-09T03:34:06Z',\n",
       "     'name': 'Default',\n",
       "     'is_primary': True,\n",
       "     'id': '62897874-2967-474f-88f2-fdd3f43e4e41'}]},\n",
       "  'by_interval': [{'interval': '2023-01-15',\n",
       "    'downloads_total': 2,\n",
       "    'downloads_percent': 0.08333},\n",
       "   {'interval': '2023-01-16',\n",
       "    'downloads_total': 1,\n",
       "    'downloads_percent': 0.04167},\n",
       "   {'interval': '2023-01-17', 'downloads_total': 0, 'downloads_percent': 0.0},\n",
       "   {'interval': '2023-01-18',\n",
       "    'downloads_total': 2,\n",
       "    'downloads_percent': 0.08333},\n",
       "   {'interval': '2023-01-19',\n",
       "    'downloads_total': 2,\n",
       "    'downloads_percent': 0.08333},\n",
       "   {'interval': '2023-01-20',\n",
       "    'downloads_total': 1,\n",
       "    'downloads_percent': 0.04167},\n",
       "   {'interval': '2023-01-21', 'downloads_total': 0, 'downloads_percent': 0.0},\n",
       "   {'interval': '2023-01-22',\n",
       "    'downloads_total': 3,\n",
       "    'downloads_percent': 0.125},\n",
       "   {'interval': '2023-01-23',\n",
       "    'downloads_total': 5,\n",
       "    'downloads_percent': 0.20833},\n",
       "   {'interval': '2023-01-24',\n",
       "    'downloads_total': 3,\n",
       "    'downloads_percent': 0.125},\n",
       "   {'interval': '2023-01-25',\n",
       "    'downloads_total': 1,\n",
       "    'downloads_percent': 0.04167},\n",
       "   {'interval': '2023-01-26', 'downloads_total': 0, 'downloads_percent': 0.0},\n",
       "   {'interval': '2023-01-27',\n",
       "    'downloads_total': 2,\n",
       "    'downloads_percent': 0.08333},\n",
       "   {'interval': '2023-01-28',\n",
       "    'downloads_total': 2,\n",
       "    'downloads_percent': 0.08333},\n",
       "   {'interval': '2023-01-29',\n",
       "    'downloads_total': 0,\n",
       "    'downloads_percent': 0.0}]}}"
      ]
     },
     "execution_count": 97,
     "metadata": {},
     "output_type": "execute_result"
    }
   ],
   "source": []
  },
  {
   "cell_type": "code",
   "execution_count": 98,
   "id": "16793183-0c07-4790-855e-b36e819516f6",
   "metadata": {},
   "outputs": [],
   "source": [
    "session = requests.Session()\n",
    "\n",
    "def get_jobs():\n",
    "    url = \"https://api.simplecast.com/podcasts/{}/episodes\".format(podcast_ids[1]['id'] )\n",
    "    first_page = session.get(url).json()\n",
    "    yield first_page\n",
    "        \n",
    "    while first_page['pages']['next'] != None:\n",
    "        first_page = session.get(first_page['pages']['next']['href'], headers={'authorization':'Bearer {}'.format(bearer)}).json()\n",
    "        yield first_page\n",
    "\n",
    "pages = [page for page in get_jobs()]"
   ]
  },
  {
   "cell_type": "code",
   "execution_count": 99,
   "id": "df225e9a-e561-444e-8941-dea1730a9d79",
   "metadata": {},
   "outputs": [],
   "source": [
    "tbp_episode_ids = []\n",
    "for page in pages:\n",
    "    for episode in page['collection']:\n",
    "        tbp_episode_ids.append({\"title\": episode['title'], 'id': episode['id']})"
   ]
  },
  {
   "cell_type": "code",
   "execution_count": 101,
   "id": "46ad35c3-8972-4c64-8975-a20b90e24493",
   "metadata": {},
   "outputs": [],
   "source": [
    "session = requests.Session()\n",
    "\n",
    "tbp_episodic_downloads = []\n",
    "for episode in tbp_episode_ids:\n",
    "    url = \"https://api.simplecast.com/analytics/downloads?episode={}\".format(episode['id'])\n",
    "    episode_json = session.get(url, headers={'authorization':'Bearer {}'.format(bearer)}).json()\n",
    "    tbp_episodic_downloads.append({\"title\": episode['title'], \"downloads\":episode_json})"
   ]
  },
  {
   "cell_type": "code",
   "execution_count": 102,
   "id": "f0dfd5b6-241f-4780-8249-8d8519032f31",
   "metadata": {},
   "outputs": [
    {
     "data": {
      "text/plain": [
       "{'title': 'Hashing It Out-Flash Hash 01/02/2023',\n",
       " 'downloads': {'href': 'https://api.simplecast.com/analytics/downloads?episode=7a6f11df-51a1-4812-bc18-a49c33a95ea4',\n",
       "  'total': 937,\n",
       "  'interval': 'day',\n",
       "  'id': '7a6f11df-51a1-4812-bc18-a49c33a95ea4',\n",
       "  'feeds': {'collection': [{'status': 'published',\n",
       "     'scheduled_for': None,\n",
       "     'published_at': '2023-01-24T17:00:00Z',\n",
       "     'name': 'Default',\n",
       "     'is_primary': True,\n",
       "     'id': '3aa77255-8f97-4da1-97fa-d9a1c6f73850'}]},\n",
       "  'by_interval': [{'interval': '2023-01-24',\n",
       "    'downloads_total': 489,\n",
       "    'downloads_percent': 0.52188},\n",
       "   {'interval': '2023-01-25',\n",
       "    'downloads_total': 198,\n",
       "    'downloads_percent': 0.21131},\n",
       "   {'interval': '2023-01-26',\n",
       "    'downloads_total': 91,\n",
       "    'downloads_percent': 0.09712},\n",
       "   {'interval': '2023-01-27',\n",
       "    'downloads_total': 66,\n",
       "    'downloads_percent': 0.07044},\n",
       "   {'interval': '2023-01-28',\n",
       "    'downloads_total': 52,\n",
       "    'downloads_percent': 0.0555},\n",
       "   {'interval': '2023-01-29',\n",
       "    'downloads_total': 41,\n",
       "    'downloads_percent': 0.04376}]}}"
      ]
     },
     "execution_count": 102,
     "metadata": {},
     "output_type": "execute_result"
    }
   ],
   "source": [
    "tbp_episodic_downloads[0]"
   ]
  },
  {
   "cell_type": "code",
   "execution_count": 105,
   "id": "bc9ecccb-ca89-444e-bcf7-c805f63ee33f",
   "metadata": {},
   "outputs": [],
   "source": [
    "with open(\"tbp_episodic_downloads.pickle\", 'wb') as handle:\n",
    "    pickle.dump(tbp_episodic_downloads, handle)"
   ]
  },
  {
   "cell_type": "code",
   "execution_count": 196,
   "id": "8718037a-6a6d-4419-8719-70e205b54a03",
   "metadata": {},
   "outputs": [],
   "source": [
    "def return_id(json_str):\n",
    "    return json_str['id']\n",
    "\n",
    "def return_downloads(json_str):\n",
    "    return json_str['total']\n",
    "\n",
    "def return_pubdate(json_str):\n",
    "    return json_str['feeds']['collection'][0]['published_at']\n",
    "\n",
    "def get_show(title):\n",
    "    if \"Hashing\" in title:\n",
    "        return \"HIO\"\n",
    "    elif \"HIO\" in title:\n",
    "        return \"HIO\"\n",
    "    else:\n",
    "        return \"TBPN\""
   ]
  },
  {
   "cell_type": "code",
   "execution_count": 197,
   "id": "336c46df-85fd-4136-abc3-a5ed44d256ad",
   "metadata": {},
   "outputs": [],
   "source": [
    "df = pd.DataFrame(tbp_episodic_downloads)\n",
    "df['id'] = df['downloads'].apply(return_id).copy()\n",
    "df['total_downloads'] = df['downloads'].apply(return_downloads).copy()\n",
    "df['published_at'] = df['downloads'].apply(return_pubdate).copy()\n",
    "df['show'] = df['title'].apply(get_show).copy()\n",
    "df = df.drop_duplicates(subset=['id'])"
   ]
  },
  {
   "cell_type": "code",
   "execution_count": 198,
   "id": "d2caab9a-12a8-435f-a532-a7fb18dc579b",
   "metadata": {},
   "outputs": [
    {
     "data": {
      "text/html": [
       "<div>\n",
       "<style scoped>\n",
       "    .dataframe tbody tr th:only-of-type {\n",
       "        vertical-align: middle;\n",
       "    }\n",
       "\n",
       "    .dataframe tbody tr th {\n",
       "        vertical-align: top;\n",
       "    }\n",
       "\n",
       "    .dataframe thead th {\n",
       "        text-align: right;\n",
       "    }\n",
       "</style>\n",
       "<table border=\"1\" class=\"dataframe\">\n",
       "  <thead>\n",
       "    <tr style=\"text-align: right;\">\n",
       "      <th></th>\n",
       "      <th>title</th>\n",
       "      <th>downloads</th>\n",
       "      <th>id</th>\n",
       "      <th>total_downloads</th>\n",
       "      <th>published_at</th>\n",
       "      <th>show</th>\n",
       "    </tr>\n",
       "  </thead>\n",
       "  <tbody>\n",
       "    <tr>\n",
       "      <th>0</th>\n",
       "      <td>Hashing It Out-Flash Hash 01/02/2023</td>\n",
       "      <td>{'href': 'https://api.simplecast.com/analytics...</td>\n",
       "      <td>7a6f11df-51a1-4812-bc18-a49c33a95ea4</td>\n",
       "      <td>937</td>\n",
       "      <td>2023-01-24T17:00:00Z</td>\n",
       "      <td>HIO</td>\n",
       "    </tr>\n",
       "    <tr>\n",
       "      <th>1</th>\n",
       "      <td>Hashing It Out Personals: Dee Ferguson</td>\n",
       "      <td>{'href': 'https://api.simplecast.com/analytics...</td>\n",
       "      <td>48fccae1-dc83-4da0-a935-b834c108426b</td>\n",
       "      <td>1259</td>\n",
       "      <td>2023-01-17T17:00:00Z</td>\n",
       "      <td>HIO</td>\n",
       "    </tr>\n",
       "    <tr>\n",
       "      <th>2</th>\n",
       "      <td>Hashing It Out-Application Infrastructure Pt. 2</td>\n",
       "      <td>{'href': 'https://api.simplecast.com/analytics...</td>\n",
       "      <td>23bcc0a7-3a1a-4ee8-99b6-009f3a9a2074</td>\n",
       "      <td>1333</td>\n",
       "      <td>2023-01-10T17:00:00Z</td>\n",
       "      <td>HIO</td>\n",
       "    </tr>\n",
       "    <tr>\n",
       "      <th>3</th>\n",
       "      <td>Hashing It Out-Flash Hash: 12/05/2022</td>\n",
       "      <td>{'href': 'https://api.simplecast.com/analytics...</td>\n",
       "      <td>3d768f85-37e5-444b-a6e4-d320bb603365</td>\n",
       "      <td>1378</td>\n",
       "      <td>2023-01-03T17:00:00Z</td>\n",
       "      <td>HIO</td>\n",
       "    </tr>\n",
       "    <tr>\n",
       "      <th>4</th>\n",
       "      <td>Hashing It Out-Application Infrastructure Pt. 1</td>\n",
       "      <td>{'href': 'https://api.simplecast.com/analytics...</td>\n",
       "      <td>d5f66616-c0b4-42c8-a954-4a2f3f3f0f62</td>\n",
       "      <td>1505</td>\n",
       "      <td>2022-12-27T17:00:00Z</td>\n",
       "      <td>HIO</td>\n",
       "    </tr>\n",
       "  </tbody>\n",
       "</table>\n",
       "</div>"
      ],
      "text/plain": [
       "                                              title  \\\n",
       "0              Hashing It Out-Flash Hash 01/02/2023   \n",
       "1            Hashing It Out Personals: Dee Ferguson   \n",
       "2   Hashing It Out-Application Infrastructure Pt. 2   \n",
       "3             Hashing It Out-Flash Hash: 12/05/2022   \n",
       "4   Hashing It Out-Application Infrastructure Pt. 1   \n",
       "\n",
       "                                           downloads  \\\n",
       "0  {'href': 'https://api.simplecast.com/analytics...   \n",
       "1  {'href': 'https://api.simplecast.com/analytics...   \n",
       "2  {'href': 'https://api.simplecast.com/analytics...   \n",
       "3  {'href': 'https://api.simplecast.com/analytics...   \n",
       "4  {'href': 'https://api.simplecast.com/analytics...   \n",
       "\n",
       "                                     id  total_downloads  \\\n",
       "0  7a6f11df-51a1-4812-bc18-a49c33a95ea4              937   \n",
       "1  48fccae1-dc83-4da0-a935-b834c108426b             1259   \n",
       "2  23bcc0a7-3a1a-4ee8-99b6-009f3a9a2074             1333   \n",
       "3  3d768f85-37e5-444b-a6e4-d320bb603365             1378   \n",
       "4  d5f66616-c0b4-42c8-a954-4a2f3f3f0f62             1505   \n",
       "\n",
       "           published_at show  \n",
       "0  2023-01-24T17:00:00Z  HIO  \n",
       "1  2023-01-17T17:00:00Z  HIO  \n",
       "2  2023-01-10T17:00:00Z  HIO  \n",
       "3  2023-01-03T17:00:00Z  HIO  \n",
       "4  2022-12-27T17:00:00Z  HIO  "
      ]
     },
     "execution_count": 198,
     "metadata": {},
     "output_type": "execute_result"
    }
   ],
   "source": [
    "df.head()"
   ]
  },
  {
   "cell_type": "code",
   "execution_count": 204,
   "id": "f4e13e34-5764-46ca-949e-216ff3ed28d6",
   "metadata": {},
   "outputs": [
    {
     "name": "stdout",
     "output_type": "stream",
     "text": [
      "HIO has 330444 downloads over 118 shows for and average of 2800.3728813559323 downloads/show\n",
      "TBP has 1728937 downloads over 891 shows for and average of 1940.4455667789 downloads/show\n"
     ]
    }
   ],
   "source": [
    "hio_total_downloads = df[df['show'] == 'HIO'].total_downloads.sum()\n",
    "hio_num_shows = len(df[df['show'] == 'HIO'].total_downloads)\n",
    "\n",
    "tbp_total_downloads = df[df['show'] == 'TBPN'].total_downloads.sum()\n",
    "tbp_num_shows = len(df[df['show'] == 'TBPN'].total_downloads)\n",
    "\n",
    "\n",
    "print(\"HIO has {} downloads over {} shows for and average of {} downloads/show\".format(hio_total_downloads, hio_num_shows, hio_total_downloads/hio_num_shows))\n",
    "print(\"TBP has {} downloads over {} shows for and average of {} downloads/show\".format(tbp_total_downloads, tbp_num_shows, tbp_total_downloads/tbp_num_shows))"
   ]
  },
  {
   "cell_type": "code",
   "execution_count": null,
   "id": "5db3e986-491c-4134-8fb1-42521c6bed60",
   "metadata": {},
   "outputs": [],
   "source": [
    "\n"
   ]
  }
 ],
 "metadata": {
  "kernelspec": {
   "display_name": "Python 3 (ipykernel)",
   "language": "python",
   "name": "python3"
  },
  "language_info": {
   "codemirror_mode": {
    "name": "ipython",
    "version": 3
   },
   "file_extension": ".py",
   "mimetype": "text/x-python",
   "name": "python",
   "nbconvert_exporter": "python",
   "pygments_lexer": "ipython3",
   "version": "3.10.6"
  }
 },
 "nbformat": 4,
 "nbformat_minor": 5
}
