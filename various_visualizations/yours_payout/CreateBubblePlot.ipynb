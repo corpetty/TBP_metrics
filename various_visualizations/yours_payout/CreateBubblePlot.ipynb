{
 "cells": [
  {
   "cell_type": "code",
   "execution_count": 3,
   "metadata": {
    "collapsed": false
   },
   "outputs": [
    {
     "name": "stdout",
     "output_type": "stream",
     "text": [
      "The autoreload extension is already loaded. To reload it, use:\n",
      "  %reload_ext autoreload\n"
     ]
    }
   ],
   "source": [
    "%matplotlib inline\n",
    "import matplotlib.pyplot as plt\n",
    "plt.style.use('ggplot')\n",
    "import pandas as pd\n",
    "import plotly.plotly as plotly\n",
    "from plotly.graph_objs import *\n",
    "import numpy as np\n",
    "%load_ext autoreload\n",
    "%autoreload 2\n",
    "from model_defs import *"
   ]
  },
  {
   "cell_type": "code",
   "execution_count": 2,
   "metadata": {
    "collapsed": false
   },
   "outputs": [
    {
     "data": {
      "text/html": [
       "<style>body {\n",
       "    margin: 0;\n",
       "    font-family: Helvetica;\n",
       "}\n",
       "table.dataframe {\n",
       "    border-collapse: collapse;\n",
       "    border: none;\n",
       "}\n",
       "table.dataframe tr {\n",
       "    border: none;\n",
       "}\n",
       "table.dataframe td, table.dataframe th {\n",
       "    margin: 0;\n",
       "    border: 1px solid white;\n",
       "    padding-left: 0.25em;\n",
       "    padding-right: 0.25em;\n",
       "}\n",
       "table.dataframe th:not(:empty) {\n",
       "    background-color: #fec;\n",
       "    text-align: left;\n",
       "    font-weight: normal;\n",
       "}\n",
       "table.dataframe tr:nth-child(2) th:empty {\n",
       "    border-left: none;\n",
       "    border-right: 1px dashed #888;\n",
       "}\n",
       "table.dataframe td {\n",
       "    border: 2px solid #ccf;\n",
       "    background-color: #f4f4ff;\n",
       "}\n",
       "h3 {\n",
       "    color: white;\n",
       "    background-color: black;\n",
       "    padding: 0.5em;\n",
       "}\n",
       "</style>"
      ],
      "text/plain": [
       "<IPython.core.display.HTML object>"
      ]
     },
     "execution_count": 2,
     "metadata": {},
     "output_type": "execute_result"
    }
   ],
   "source": [
    "#  Make notebook and pandas DataFrames look better\n",
    "from IPython.core.display import HTML\n",
    "css = open(\"../styles/style-table.css\").read() + open('../styles/style-notebook.css').read()\n",
    "HTML('<style>{}</style>'.format(css))"
   ]
  },
  {
   "cell_type": "markdown",
   "metadata": {},
   "source": [
    "# List of trials to run"
   ]
  },
  {
   "cell_type": "markdown",
   "metadata": {},
   "source": [
    "* various percentages of:\n",
    "    * Yours Network Payout\n",
    "    * Content Provider Payout\n",
    "    * Curation Payout\n",
    "* Time models:\n",
    "    * Immediate viral and sizzle\n",
    "    * slow and steady promotion\n",
    "    * future event promotion\n",
    "* Curration distributions:\n",
    "    * mixed normal with outliars\n",
    "    * mixed normal without outliars\n",
    "    * high initial seeding"
   ]
  },
  {
   "cell_type": "code",
   "execution_count": 5,
   "metadata": {
    "collapsed": false,
    "scrolled": true
   },
   "outputs": [
    {
     "name": "stdout",
     "output_type": "stream",
     "text": [
      "Total tipped:    $262.59\n",
      "Yours revenue:   $26.26\n",
      "Creator revenue: $2.58\n",
      "Curator revenue: $233.75\n"
     ]
    },
    {
     "data": {
      "text/html": [
       "<div>\n",
       "<table border=\"1\" class=\"dataframe\">\n",
       "  <thead>\n",
       "    <tr style=\"text-align: right;\">\n",
       "      <th></th>\n",
       "      <th>tip</th>\n",
       "      <th>curator_payouts</th>\n",
       "      <th>yours_revenue</th>\n",
       "      <th>curator_num</th>\n",
       "      <th>total_earned</th>\n",
       "    </tr>\n",
       "  </thead>\n",
       "  <tbody>\n",
       "    <tr>\n",
       "      <th>0</th>\n",
       "      <td>2.86148</td>\n",
       "      <td>[4.20033787461, 0.451699322674, 1.36878367522,...</td>\n",
       "      <td>0.286148</td>\n",
       "      <td>0</td>\n",
       "      <td>13.951702</td>\n",
       "    </tr>\n",
       "    <tr>\n",
       "      <th>1</th>\n",
       "      <td>4.66704</td>\n",
       "      <td>[0.736716403758, 2.23247044242, 0.203136577347...</td>\n",
       "      <td>0.466704</td>\n",
       "      <td>1</td>\n",
       "      <td>15.904363</td>\n",
       "    </tr>\n",
       "    <tr>\n",
       "      <th>2</th>\n",
       "      <td>1.32046</td>\n",
       "      <td>[0.631640373172, 0.0574741152592, 0.2560987337...</td>\n",
       "      <td>0.132046</td>\n",
       "      <td>2</td>\n",
       "      <td>4.291433</td>\n",
       "    </tr>\n",
       "    <tr>\n",
       "      <th>3</th>\n",
       "      <td>4.70322</td>\n",
       "      <td>[0.204711079157, 0.91217146935, 0.281715260123...</td>\n",
       "      <td>0.470322</td>\n",
       "      <td>3</td>\n",
       "      <td>13.035436</td>\n",
       "    </tr>\n",
       "    <tr>\n",
       "      <th>4</th>\n",
       "      <td>0.655411</td>\n",
       "      <td>[0.127114555087, 0.0392580903429, 0.0330512265...</td>\n",
       "      <td>0.0655411</td>\n",
       "      <td>4</td>\n",
       "      <td>1.788010</td>\n",
       "    </tr>\n",
       "  </tbody>\n",
       "</table>\n",
       "</div>"
      ],
      "text/plain": [
       "        tip                                    curator_payouts yours_revenue  \\\n",
       "0   2.86148  [4.20033787461, 0.451699322674, 1.36878367522,...      0.286148   \n",
       "1   4.66704  [0.736716403758, 2.23247044242, 0.203136577347...      0.466704   \n",
       "2   1.32046  [0.631640373172, 0.0574741152592, 0.2560987337...      0.132046   \n",
       "3   4.70322  [0.204711079157, 0.91217146935, 0.281715260123...      0.470322   \n",
       "4  0.655411  [0.127114555087, 0.0392580903429, 0.0330512265...     0.0655411   \n",
       "\n",
       "   curator_num  total_earned  \n",
       "0            0     13.951702  \n",
       "1            1     15.904363  \n",
       "2            2      4.291433  \n",
       "3            3     13.035436  \n",
       "4            4      1.788010  "
      ]
     },
     "execution_count": 5,
     "metadata": {},
     "output_type": "execute_result"
    }
   ],
   "source": [
    "max_tip = 5\n",
    "num_tips = 100\n",
    "curator_perc = 0.9\n",
    "yours_perc = 0.1\n",
    "df = get_payouts_uniform(max_tip=max_tip, num_tips=num_tips, curator_payout_perc=curator_perc, yours_payout_perc=yours_perc)\n",
    "df.head()"
   ]
  },
  {
   "cell_type": "code",
   "execution_count": 7,
   "metadata": {
    "collapsed": false
   },
   "outputs": [
    {
     "data": {
      "text/plain": [
       "[<matplotlib.lines.Line2D at 0x118dc13c8>]"
      ]
     },
     "execution_count": 7,
     "metadata": {},
     "output_type": "execute_result"
    },
    {
     "data": {
      "image/png": "[encoded data removed]",
      "text/plain": [
       "<matplotlib.figure.Figure at 0x11913ffd0>"
      ]
     },
     "metadata": {},
     "output_type": "display_data"
    }
   ],
   "source": [
    "# Plot the payout of a given curator\n",
    "curator_num = 5\n",
    "plt.plot(df.curator_num[(curator_num-1):-1], df.curator_payouts[curator_num-1])"
   ]
  },
  {
   "cell_type": "code",
   "execution_count": 29,
   "metadata": {
    "collapsed": false
   },
   "outputs": [
    {
     "name": "stdout",
     "output_type": "stream",
     "text": [
      "Total tipped:    $78.82\n",
      "Yours revenue:   $7.88\n",
      "Creator revenue: $0.59\n",
      "Curator revenue: $70.36\n"
     ]
    },
    {
     "data": {
      "image/png": "[encoded data removed]",
      "text/plain": [
       "<matplotlib.figure.Figure at 0x11d898630>"
      ]
     },
     "metadata": {},
     "output_type": "display_data"
    }
   ],
   "source": [
    "tip_amounts = [0.25, 0.50, 0.75, 3.0]\n",
    "num_tips = 100\n",
    "curator_perc = 0.9\n",
    "yours_perc = 0.1\n",
    "df = get_payouts_mixed_normal(tip_amounts, num_tips, curator_perc, yours_perc)\n",
    "plt.hist(df_normal.tip, 100, normed=True)\n",
    "plt.show()"
   ]
  },
  {
   "cell_type": "code",
   "execution_count": 28,
   "metadata": {
    "collapsed": false
   },
   "outputs": [
    {
     "data": {
      "text/plain": [
       "<matplotlib.axes._subplots.AxesSubplot at 0x1190a3908>"
      ]
     },
     "execution_count": 28,
     "metadata": {},
     "output_type": "execute_result"
    },
    {
     "data": {
      "image/png": "[encoded data removed]",
      "text/plain": [
       "<matplotlib.figure.Figure at 0x11ccaf898>"
      ]
     },
     "metadata": {},
     "output_type": "display_data"
    }
   ],
   "source": [
    "df.plot(x='curator_num', y='tip')"
   ]
  },
  {
   "cell_type": "code",
   "execution_count": 30,
   "metadata": {
    "collapsed": false
   },
   "outputs": [
    {
     "data": {
      "text/html": [
       "<iframe id=\"igraph\" scrolling=\"no\" style=\"border:none;\" seamless=\"seamless\" src=\"https://plot.ly/~CoreyPetty/39.embed\" height=\"525px\" width=\"100%\"></iframe>"
      ],
      "text/plain": [
       "<plotly.tools.PlotlyDisplay object>"
      ]
     },
     "execution_count": 30,
     "metadata": {},
     "output_type": "execute_result"
    }
   ],
   "source": [
    "sizemode='area'\n",
    "sizeref = df['total_earned'].max() / 1e2**1.5\n",
    "labels = []\n",
    "for exact in df['total_earned']:\n",
    "    labels.append('${0:.2f}'.format(round(exact,2)))\n",
    "df['labels'] = labels\n",
    "df['recouped'] = df.total_earned > df.tip     # for separating Da\n",
    "\n",
    "colors = dict(\n",
    "    yes='#ff7f0e',     # color for profiting curator\n",
    "    no='#2ca02c',      # color for non-profiting curator\n",
    ")    \n",
    "\n",
    "# Define a trace-generating function (returns a Scatter object)\n",
    "def make_trace(X, recouped, sizes, color):\n",
    "    return Scatter(\n",
    "        x=X['curator_num'],              # Curator number\n",
    "        y=X['tip'],                      # Amount of initial tip\n",
    "        text=X['labels'],                      # label on hover\n",
    "        mode='markers',                   # (!) point markers only on this plot\n",
    "        name=recouped,\n",
    "        marker= Marker(       \n",
    "            size=sizes,          # (!) marker sizes (sizes is a list)\n",
    "            color=color,\n",
    "            sizeref=sizeref,              # link sizeref\n",
    "            sizemode=sizemode,            # link sizemode\n",
    "            opacity=0.5,                  # (!) partly transparent markers\n",
    "            line=Line(width=0.0)          # remove marker borders\n",
    "        )\n",
    "    )\n",
    "\n",
    "def make_annote_list(string, xpos, ypos):\n",
    "    return dict(\n",
    "        x=xpos,\n",
    "        y=ypos,\n",
    "        xref='x',\n",
    "        yref='y',\n",
    "        text=string,\n",
    "        showarrow=False,\n",
    "        font=Font(size=12),   # increase font size (default is 12)\n",
    "#         bgcolor='#FFFFFF',    # white background\n",
    "#         borderpad=4           # set border/text space (in pixels)\n",
    "    )\n",
    "# Make Annotation text\n",
    "annote_list = []        \n",
    "strings = [\n",
    "    'Total tipped:    ${0:.2f}'.format(round(df.tip.sum()), 2),\n",
    "    'Creator revenue: ${0:.2f}'.format(round(df.tip[1:].sum() * (1 - (yours_perc + curator_perc))\n",
    "                                                   + df.tip[0] * (1 - yours_perc), 2)),\n",
    "    'Curator revenue: ${0:.2f}'.format(round(df.total_earned.sum(), 2)),\n",
    "    'Yours revenue:   ${0:.2f}'.format(round(df.yours_revenue.sum(), 2)),\n",
    "    ]\n",
    "xs = [num_tips, num_tips, num_tips, num_tips]\n",
    "ys = [max_tip+4, max_tip+3, max_tip+2, max_tip+1]\n",
    "for string, x, y in zip(strings, xs, ys):\n",
    "    annote_list.append(make_annote_list(string, x, y))\n",
    "    \n",
    "data = Data()\n",
    "for recouped, X in df.groupby('recouped'):\n",
    "\n",
    "    sizes = X['total_earned']                  # get population array \n",
    "    if recouped:                               # get bubble color\n",
    "        color=colors['yes']\n",
    "        recouped = 'Profited'\n",
    "    else:\n",
    "        color=colors['no']\n",
    "        recouped = \"Didn't profit\"\n",
    "\n",
    "    data.append(\n",
    "        make_trace(X, recouped, sizes, color)  # append trace to data object\n",
    "    )\n",
    "\n",
    "\n",
    "# Set plot and axis titles\n",
    "title = \"Projected Yours Network Payout\"\n",
    "x_title = \"Curator Number\"\n",
    "y_title = \"Amount Tipped, (USD)\"\n",
    "\n",
    "# Define a dictionary of axis style options\n",
    "axis_style = dict(\n",
    "    zeroline=False,       # remove thick zero line\n",
    "    gridcolor='#FFFFFF',  # white grid lines\n",
    "    ticks='outside',      # draw ticks outside axes \n",
    "    ticklen=8,            # tick length\n",
    "    tickwidth=1.5,        #   and width\n",
    ")\n",
    "\n",
    "# Make layout object\n",
    "layout = Layout(\n",
    "    title=title,             # set plot title\n",
    "    plot_bgcolor='#EFECEA',  # set plot color to grey\n",
    "    hovermode='closest',     # set hover to show closest to cursor\n",
    "    xaxis=XAxis(\n",
    "        axis_style,      # add axis style dictionary\n",
    "        title=x_title,   # x-axis title\n",
    "    ),\n",
    "    yaxis=YAxis(\n",
    "        axis_style,      # add axis style dictionary\n",
    "        title=y_title,   # y-axis title\n",
    "    ),\n",
    "    showlegend=False,     # remove legend (info in hover)\n",
    "    autosize=False,       # turn off autosize\n",
    "    annotations=annote_list\n",
    ")\n",
    "\n",
    "# Make Figure object\n",
    "fig = Figure(data=data, layout=layout)\n",
    "\n",
    "# (@) Send to Plotly and show in notebook\n",
    "plotly.iplot(fig, filename='Yours_plots/paymentModel-90-mixedNormal')"
   ]
  },
  {
   "cell_type": "code",
   "execution_count": null,
   "metadata": {
    "collapsed": true
   },
   "outputs": [],
   "source": []
  }
 ],
 "metadata": {
  "kernelspec": {
   "display_name": "Python 3",
   "language": "python",
   "name": "python3"
  },
  "language_info": {
   "codemirror_mode": {
    "name": "ipython",
    "version": 3
   },
   "file_extension": ".py",
   "mimetype": "text/x-python",
   "name": "python",
   "nbconvert_exporter": "python",
   "pygments_lexer": "ipython3",
   "version": "3.5.1"
  },
  "latex_envs": {
   "bibliofile": "biblio.bib",
   "cite_by": "apalike",
   "current_citInitial": 1,
   "eqLabelWithNumbers": true,
   "eqNumInitial": 0
  },
  "nav_menu": {},
  "toc": {
   "navigate_menu": true,
   "number_sections": true,
   "sideBar": true,
   "threshold": 6,
   "toc_cell": false,
   "toc_section_display": "block",
   "toc_window_display": false
  }
 },
 "nbformat": 4,
 "nbformat_minor": 0
}
